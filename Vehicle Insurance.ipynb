{
 "cells": [
  {
   "cell_type": "markdown",
   "id": "6a559623",
   "metadata": {},
   "source": [
    "!pip install treeinterpreter"
   ]
  },
  {
   "cell_type": "markdown",
   "id": "522ef558",
   "metadata": {},
   "source": [
    "!pip install waterfallcharts"
   ]
  },
  {
   "cell_type": "markdown",
   "id": "85ac9329",
   "metadata": {},
   "source": [
    "!pip install pdpbox"
   ]
  },
  {
   "cell_type": "code",
   "execution_count": null,
   "id": "8fb474c8",
   "metadata": {},
   "outputs": [],
   "source": []
  },
  {
   "cell_type": "code",
   "execution_count": null,
   "id": "1073cdbb",
   "metadata": {},
   "outputs": [],
   "source": []
  },
  {
   "cell_type": "code",
   "execution_count": 1,
   "id": "bb4fed0d",
   "metadata": {},
   "outputs": [
    {
     "name": "stdout",
     "output_type": "stream",
     "text": [
      "numpy version :  1.21.5\n",
      "pandas version :  1.4.2\n",
      "seaborn version :  0.11.2\n"
     ]
    }
   ],
   "source": [
    "import warnings\n",
    "warnings.filterwarnings('ignore')\n",
    "\n",
    "import numpy as np\n",
    "import pandas as pd\n",
    "import seaborn as sns\n",
    "import matplotlib.pyplot as plt\n",
    "%matplotlib inline\n",
    "\n",
    "print('numpy version : ',np.__version__)\n",
    "print('pandas version : ',pd.__version__)\n",
    "print('seaborn version : ',sns.__version__)\n",
    "\n",
    "from mpl_toolkits.mplot3d import Axes3D\n",
    "\n",
    "from sklearn.cluster import KMeans\n",
    "from sklearn.decomposition import PCA \n",
    "from sklearn.metrics import silhouette_score\n",
    "from sklearn.preprocessing import StandardScaler, MinMaxScaler"
   ]
  },
  {
   "cell_type": "code",
   "execution_count": 2,
   "id": "7201a4b3",
   "metadata": {},
   "outputs": [
    {
     "data": {
      "text/html": [
       "<div>\n",
       "<style scoped>\n",
       "    .dataframe tbody tr th:only-of-type {\n",
       "        vertical-align: middle;\n",
       "    }\n",
       "\n",
       "    .dataframe tbody tr th {\n",
       "        vertical-align: top;\n",
       "    }\n",
       "\n",
       "    .dataframe thead th {\n",
       "        text-align: right;\n",
       "    }\n",
       "</style>\n",
       "<table border=\"1\" class=\"dataframe\">\n",
       "  <thead>\n",
       "    <tr style=\"text-align: right;\">\n",
       "      <th></th>\n",
       "      <th>id</th>\n",
       "      <th>Gender</th>\n",
       "      <th>Age</th>\n",
       "      <th>Driving_License</th>\n",
       "      <th>Region_Code</th>\n",
       "      <th>Previously_Insured</th>\n",
       "      <th>Vehicle_Age</th>\n",
       "      <th>Vehicle_Damage</th>\n",
       "      <th>Annual_Premium</th>\n",
       "      <th>Policy_Sales_Channel</th>\n",
       "      <th>Vintage</th>\n",
       "      <th>Response</th>\n",
       "    </tr>\n",
       "  </thead>\n",
       "  <tbody>\n",
       "    <tr>\n",
       "      <th>0</th>\n",
       "      <td>1</td>\n",
       "      <td>Male</td>\n",
       "      <td>44</td>\n",
       "      <td>1</td>\n",
       "      <td>28.0</td>\n",
       "      <td>0</td>\n",
       "      <td>&gt; 2 Years</td>\n",
       "      <td>Yes</td>\n",
       "      <td>40454.0</td>\n",
       "      <td>26.0</td>\n",
       "      <td>217</td>\n",
       "      <td>1</td>\n",
       "    </tr>\n",
       "    <tr>\n",
       "      <th>1</th>\n",
       "      <td>2</td>\n",
       "      <td>Male</td>\n",
       "      <td>76</td>\n",
       "      <td>1</td>\n",
       "      <td>3.0</td>\n",
       "      <td>0</td>\n",
       "      <td>1-2 Year</td>\n",
       "      <td>No</td>\n",
       "      <td>33536.0</td>\n",
       "      <td>26.0</td>\n",
       "      <td>183</td>\n",
       "      <td>0</td>\n",
       "    </tr>\n",
       "    <tr>\n",
       "      <th>2</th>\n",
       "      <td>3</td>\n",
       "      <td>Male</td>\n",
       "      <td>47</td>\n",
       "      <td>1</td>\n",
       "      <td>28.0</td>\n",
       "      <td>0</td>\n",
       "      <td>&gt; 2 Years</td>\n",
       "      <td>Yes</td>\n",
       "      <td>38294.0</td>\n",
       "      <td>26.0</td>\n",
       "      <td>27</td>\n",
       "      <td>1</td>\n",
       "    </tr>\n",
       "    <tr>\n",
       "      <th>3</th>\n",
       "      <td>4</td>\n",
       "      <td>Male</td>\n",
       "      <td>21</td>\n",
       "      <td>1</td>\n",
       "      <td>11.0</td>\n",
       "      <td>1</td>\n",
       "      <td>&lt; 1 Year</td>\n",
       "      <td>No</td>\n",
       "      <td>28619.0</td>\n",
       "      <td>152.0</td>\n",
       "      <td>203</td>\n",
       "      <td>0</td>\n",
       "    </tr>\n",
       "    <tr>\n",
       "      <th>4</th>\n",
       "      <td>5</td>\n",
       "      <td>Female</td>\n",
       "      <td>29</td>\n",
       "      <td>1</td>\n",
       "      <td>41.0</td>\n",
       "      <td>1</td>\n",
       "      <td>&lt; 1 Year</td>\n",
       "      <td>No</td>\n",
       "      <td>27496.0</td>\n",
       "      <td>152.0</td>\n",
       "      <td>39</td>\n",
       "      <td>0</td>\n",
       "    </tr>\n",
       "  </tbody>\n",
       "</table>\n",
       "</div>"
      ],
      "text/plain": [
       "   id  Gender  Age  Driving_License  Region_Code  Previously_Insured  \\\n",
       "0   1    Male   44                1         28.0                   0   \n",
       "1   2    Male   76                1          3.0                   0   \n",
       "2   3    Male   47                1         28.0                   0   \n",
       "3   4    Male   21                1         11.0                   1   \n",
       "4   5  Female   29                1         41.0                   1   \n",
       "\n",
       "  Vehicle_Age Vehicle_Damage  Annual_Premium  Policy_Sales_Channel  Vintage  \\\n",
       "0   > 2 Years            Yes         40454.0                  26.0      217   \n",
       "1    1-2 Year             No         33536.0                  26.0      183   \n",
       "2   > 2 Years            Yes         38294.0                  26.0       27   \n",
       "3    < 1 Year             No         28619.0                 152.0      203   \n",
       "4    < 1 Year             No         27496.0                 152.0       39   \n",
       "\n",
       "   Response  \n",
       "0         1  \n",
       "1         0  \n",
       "2         1  \n",
       "3         0  \n",
       "4         0  "
      ]
     },
     "execution_count": 2,
     "metadata": {},
     "output_type": "execute_result"
    }
   ],
   "source": [
    "train = pd.read_csv('train.csv')\n",
    "train.head(5)\n"
   ]
  },
  {
   "cell_type": "markdown",
   "id": "afa86f3b",
   "metadata": {},
   "source": [
    "#  Preliminary Look and Data Cleansing"
   ]
  },
  {
   "cell_type": "code",
   "execution_count": 3,
   "id": "c1d3f43f",
   "metadata": {},
   "outputs": [
    {
     "data": {
      "text/html": [
       "<div>\n",
       "<style scoped>\n",
       "    .dataframe tbody tr th:only-of-type {\n",
       "        vertical-align: middle;\n",
       "    }\n",
       "\n",
       "    .dataframe tbody tr th {\n",
       "        vertical-align: top;\n",
       "    }\n",
       "\n",
       "    .dataframe thead th {\n",
       "        text-align: right;\n",
       "    }\n",
       "</style>\n",
       "<table border=\"1\" class=\"dataframe\">\n",
       "  <thead>\n",
       "    <tr style=\"text-align: right;\">\n",
       "      <th></th>\n",
       "      <th>id</th>\n",
       "      <th>Gender</th>\n",
       "      <th>Age</th>\n",
       "      <th>Driving_License</th>\n",
       "      <th>Region_Code</th>\n",
       "      <th>Previously_Insured</th>\n",
       "      <th>Vehicle_Age</th>\n",
       "      <th>Vehicle_Damage</th>\n",
       "      <th>Annual_Premium</th>\n",
       "      <th>Policy_Sales_Channel</th>\n",
       "      <th>Vintage</th>\n",
       "      <th>Response</th>\n",
       "    </tr>\n",
       "  </thead>\n",
       "  <tbody>\n",
       "    <tr>\n",
       "      <th>32027</th>\n",
       "      <td>32028</td>\n",
       "      <td>Female</td>\n",
       "      <td>67</td>\n",
       "      <td>1</td>\n",
       "      <td>46.0</td>\n",
       "      <td>1</td>\n",
       "      <td>1-2 Year</td>\n",
       "      <td>No</td>\n",
       "      <td>2630.0</td>\n",
       "      <td>122.0</td>\n",
       "      <td>263</td>\n",
       "      <td>0</td>\n",
       "    </tr>\n",
       "    <tr>\n",
       "      <th>377323</th>\n",
       "      <td>377324</td>\n",
       "      <td>Female</td>\n",
       "      <td>56</td>\n",
       "      <td>1</td>\n",
       "      <td>28.0</td>\n",
       "      <td>0</td>\n",
       "      <td>&gt; 2 Years</td>\n",
       "      <td>Yes</td>\n",
       "      <td>37344.0</td>\n",
       "      <td>26.0</td>\n",
       "      <td>87</td>\n",
       "      <td>0</td>\n",
       "    </tr>\n",
       "    <tr>\n",
       "      <th>110914</th>\n",
       "      <td>110915</td>\n",
       "      <td>Female</td>\n",
       "      <td>22</td>\n",
       "      <td>1</td>\n",
       "      <td>28.0</td>\n",
       "      <td>1</td>\n",
       "      <td>&lt; 1 Year</td>\n",
       "      <td>No</td>\n",
       "      <td>60041.0</td>\n",
       "      <td>152.0</td>\n",
       "      <td>150</td>\n",
       "      <td>0</td>\n",
       "    </tr>\n",
       "    <tr>\n",
       "      <th>140109</th>\n",
       "      <td>140110</td>\n",
       "      <td>Female</td>\n",
       "      <td>55</td>\n",
       "      <td>1</td>\n",
       "      <td>28.0</td>\n",
       "      <td>0</td>\n",
       "      <td>1-2 Year</td>\n",
       "      <td>Yes</td>\n",
       "      <td>26459.0</td>\n",
       "      <td>122.0</td>\n",
       "      <td>120</td>\n",
       "      <td>0</td>\n",
       "    </tr>\n",
       "    <tr>\n",
       "      <th>162020</th>\n",
       "      <td>162021</td>\n",
       "      <td>Male</td>\n",
       "      <td>61</td>\n",
       "      <td>1</td>\n",
       "      <td>48.0</td>\n",
       "      <td>0</td>\n",
       "      <td>1-2 Year</td>\n",
       "      <td>Yes</td>\n",
       "      <td>2630.0</td>\n",
       "      <td>124.0</td>\n",
       "      <td>78</td>\n",
       "      <td>1</td>\n",
       "    </tr>\n",
       "    <tr>\n",
       "      <th>247407</th>\n",
       "      <td>247408</td>\n",
       "      <td>Female</td>\n",
       "      <td>76</td>\n",
       "      <td>1</td>\n",
       "      <td>19.0</td>\n",
       "      <td>1</td>\n",
       "      <td>1-2 Year</td>\n",
       "      <td>No</td>\n",
       "      <td>2630.0</td>\n",
       "      <td>124.0</td>\n",
       "      <td>100</td>\n",
       "      <td>0</td>\n",
       "    </tr>\n",
       "    <tr>\n",
       "      <th>32061</th>\n",
       "      <td>32062</td>\n",
       "      <td>Female</td>\n",
       "      <td>25</td>\n",
       "      <td>1</td>\n",
       "      <td>6.0</td>\n",
       "      <td>1</td>\n",
       "      <td>&lt; 1 Year</td>\n",
       "      <td>No</td>\n",
       "      <td>24250.0</td>\n",
       "      <td>152.0</td>\n",
       "      <td>131</td>\n",
       "      <td>0</td>\n",
       "    </tr>\n",
       "    <tr>\n",
       "      <th>273158</th>\n",
       "      <td>273159</td>\n",
       "      <td>Female</td>\n",
       "      <td>41</td>\n",
       "      <td>1</td>\n",
       "      <td>47.0</td>\n",
       "      <td>0</td>\n",
       "      <td>&gt; 2 Years</td>\n",
       "      <td>Yes</td>\n",
       "      <td>28545.0</td>\n",
       "      <td>124.0</td>\n",
       "      <td>205</td>\n",
       "      <td>1</td>\n",
       "    </tr>\n",
       "    <tr>\n",
       "      <th>231996</th>\n",
       "      <td>231997</td>\n",
       "      <td>Female</td>\n",
       "      <td>30</td>\n",
       "      <td>1</td>\n",
       "      <td>41.0</td>\n",
       "      <td>1</td>\n",
       "      <td>&lt; 1 Year</td>\n",
       "      <td>No</td>\n",
       "      <td>21917.0</td>\n",
       "      <td>152.0</td>\n",
       "      <td>180</td>\n",
       "      <td>0</td>\n",
       "    </tr>\n",
       "    <tr>\n",
       "      <th>39342</th>\n",
       "      <td>39343</td>\n",
       "      <td>Female</td>\n",
       "      <td>23</td>\n",
       "      <td>1</td>\n",
       "      <td>30.0</td>\n",
       "      <td>1</td>\n",
       "      <td>&lt; 1 Year</td>\n",
       "      <td>No</td>\n",
       "      <td>22257.0</td>\n",
       "      <td>152.0</td>\n",
       "      <td>106</td>\n",
       "      <td>0</td>\n",
       "    </tr>\n",
       "  </tbody>\n",
       "</table>\n",
       "</div>"
      ],
      "text/plain": [
       "            id  Gender  Age  Driving_License  Region_Code  Previously_Insured  \\\n",
       "32027    32028  Female   67                1         46.0                   1   \n",
       "377323  377324  Female   56                1         28.0                   0   \n",
       "110914  110915  Female   22                1         28.0                   1   \n",
       "140109  140110  Female   55                1         28.0                   0   \n",
       "162020  162021    Male   61                1         48.0                   0   \n",
       "247407  247408  Female   76                1         19.0                   1   \n",
       "32061    32062  Female   25                1          6.0                   1   \n",
       "273158  273159  Female   41                1         47.0                   0   \n",
       "231996  231997  Female   30                1         41.0                   1   \n",
       "39342    39343  Female   23                1         30.0                   1   \n",
       "\n",
       "       Vehicle_Age Vehicle_Damage  Annual_Premium  Policy_Sales_Channel  \\\n",
       "32027     1-2 Year             No          2630.0                 122.0   \n",
       "377323   > 2 Years            Yes         37344.0                  26.0   \n",
       "110914    < 1 Year             No         60041.0                 152.0   \n",
       "140109    1-2 Year            Yes         26459.0                 122.0   \n",
       "162020    1-2 Year            Yes          2630.0                 124.0   \n",
       "247407    1-2 Year             No          2630.0                 124.0   \n",
       "32061     < 1 Year             No         24250.0                 152.0   \n",
       "273158   > 2 Years            Yes         28545.0                 124.0   \n",
       "231996    < 1 Year             No         21917.0                 152.0   \n",
       "39342     < 1 Year             No         22257.0                 152.0   \n",
       "\n",
       "        Vintage  Response  \n",
       "32027       263         0  \n",
       "377323       87         0  \n",
       "110914      150         0  \n",
       "140109      120         0  \n",
       "162020       78         1  \n",
       "247407      100         0  \n",
       "32061       131         0  \n",
       "273158      205         1  \n",
       "231996      180         0  \n",
       "39342       106         0  "
      ]
     },
     "execution_count": 3,
     "metadata": {},
     "output_type": "execute_result"
    }
   ],
   "source": [
    "train.sample(10)"
   ]
  },
  {
   "cell_type": "markdown",
   "id": "f7577c4d",
   "metadata": {},
   "source": [
    "Observations:\n",
    "1.  the columns in the table consist of numeric columns and categorical columns\n",
    "2. there is multiple column seems to contain two or three distinct values , but will confirm later\n",
    "3. `Driving_License\t`, `Previously_Insured` and `Response` is apparently also binary (0,1)\n",
    "4. No obvious defect on the data (column name vs its entries), all looks good"
   ]
  },
  {
   "cell_type": "markdown",
   "id": "38e5e9e9",
   "metadata": {},
   "source": [
    "## General Information & Missing Values"
   ]
  },
  {
   "cell_type": "markdown",
   "id": "e7d91072",
   "metadata": {},
   "source": [
    "### drop kolom `ID`"
   ]
  },
  {
   "cell_type": "code",
   "execution_count": 4,
   "id": "c6044c18",
   "metadata": {},
   "outputs": [],
   "source": [
    "train = train.drop('id', axis=1)\n",
    "# kita drop kolom 'id'"
   ]
  },
  {
   "cell_type": "code",
   "execution_count": 5,
   "id": "558d0211",
   "metadata": {},
   "outputs": [
    {
     "name": "stdout",
     "output_type": "stream",
     "text": [
      "<class 'pandas.core.frame.DataFrame'>\n",
      "RangeIndex: 381109 entries, 0 to 381108\n",
      "Data columns (total 11 columns):\n",
      " #   Column                Non-Null Count   Dtype  \n",
      "---  ------                --------------   -----  \n",
      " 0   Gender                381109 non-null  object \n",
      " 1   Age                   381109 non-null  int64  \n",
      " 2   Driving_License       381109 non-null  int64  \n",
      " 3   Region_Code           381109 non-null  float64\n",
      " 4   Previously_Insured    381109 non-null  int64  \n",
      " 5   Vehicle_Age           381109 non-null  object \n",
      " 6   Vehicle_Damage        381109 non-null  object \n",
      " 7   Annual_Premium        381109 non-null  float64\n",
      " 8   Policy_Sales_Channel  381109 non-null  float64\n",
      " 9   Vintage               381109 non-null  int64  \n",
      " 10  Response              381109 non-null  int64  \n",
      "dtypes: float64(3), int64(5), object(3)\n",
      "memory usage: 32.0+ MB\n"
     ]
    }
   ],
   "source": [
    "train.info()"
   ]
  },
  {
   "cell_type": "markdown",
   "id": "a9add81d",
   "metadata": {},
   "source": [
    "Observation:\n",
    "1. Data contains 11 columns with 381109 rows\n",
    "2. there is no columns have missing values \n",
    "3. All dtypes seem OK (appropriate), given the corresponding column name"
   ]
  },
  {
   "cell_type": "markdown",
   "id": "9bd258c2",
   "metadata": {},
   "source": [
    "### missing value check"
   ]
  },
  {
   "cell_type": "code",
   "execution_count": 6,
   "id": "48cacbfc",
   "metadata": {},
   "outputs": [
    {
     "data": {
      "text/plain": [
       "Gender                  0\n",
       "Age                     0\n",
       "Driving_License         0\n",
       "Region_Code             0\n",
       "Previously_Insured      0\n",
       "Vehicle_Age             0\n",
       "Vehicle_Damage          0\n",
       "Annual_Premium          0\n",
       "Policy_Sales_Channel    0\n",
       "Vintage                 0\n",
       "Response                0\n",
       "dtype: int64"
      ]
     },
     "execution_count": 6,
     "metadata": {},
     "output_type": "execute_result"
    }
   ],
   "source": [
    "# number of missing values per column\n",
    "train.isna().sum()"
   ]
  },
  {
   "cell_type": "markdown",
   "id": "4c45fb7e",
   "metadata": {},
   "source": [
    "- there is no missing values"
   ]
  },
  {
   "cell_type": "code",
   "execution_count": 7,
   "id": "60a21d45",
   "metadata": {},
   "outputs": [
    {
     "data": {
      "text/plain": [
       "269"
      ]
     },
     "execution_count": 7,
     "metadata": {},
     "output_type": "execute_result"
    }
   ],
   "source": [
    "train.duplicated().sum()"
   ]
  },
  {
   "cell_type": "code",
   "execution_count": 8,
   "id": "4af60e2d",
   "metadata": {},
   "outputs": [],
   "source": [
    "train=train.drop_duplicates()"
   ]
  },
  {
   "cell_type": "markdown",
   "id": "04410949",
   "metadata": {},
   "source": [
    "- there are had 269 row duplicated values and drop already"
   ]
  },
  {
   "cell_type": "markdown",
   "id": "720bf844",
   "metadata": {},
   "source": [
    "# Data understanding"
   ]
  },
  {
   "cell_type": "markdown",
   "id": "6d372a3b",
   "metadata": {},
   "source": [
    "## Statistical summary"
   ]
  },
  {
   "cell_type": "code",
   "execution_count": 9,
   "id": "4f4038c5",
   "metadata": {},
   "outputs": [
    {
     "data": {
      "text/html": [
       "<div>\n",
       "<style scoped>\n",
       "    .dataframe tbody tr th:only-of-type {\n",
       "        vertical-align: middle;\n",
       "    }\n",
       "\n",
       "    .dataframe tbody tr th {\n",
       "        vertical-align: top;\n",
       "    }\n",
       "\n",
       "    .dataframe thead th {\n",
       "        text-align: right;\n",
       "    }\n",
       "</style>\n",
       "<table border=\"1\" class=\"dataframe\">\n",
       "  <thead>\n",
       "    <tr style=\"text-align: right;\">\n",
       "      <th></th>\n",
       "      <th>Age</th>\n",
       "      <th>Driving_License</th>\n",
       "      <th>Region_Code</th>\n",
       "      <th>Previously_Insured</th>\n",
       "      <th>Annual_Premium</th>\n",
       "      <th>Policy_Sales_Channel</th>\n",
       "      <th>Vintage</th>\n",
       "      <th>Response</th>\n",
       "    </tr>\n",
       "  </thead>\n",
       "  <tbody>\n",
       "    <tr>\n",
       "      <th>count</th>\n",
       "      <td>380840.000000</td>\n",
       "      <td>380840.000000</td>\n",
       "      <td>380840.000000</td>\n",
       "      <td>380840.000000</td>\n",
       "      <td>380840.000000</td>\n",
       "      <td>380840.000000</td>\n",
       "      <td>380840.000000</td>\n",
       "      <td>380840.000000</td>\n",
       "    </tr>\n",
       "    <tr>\n",
       "      <th>mean</th>\n",
       "      <td>38.823593</td>\n",
       "      <td>0.997868</td>\n",
       "      <td>26.388307</td>\n",
       "      <td>0.458208</td>\n",
       "      <td>30584.016078</td>\n",
       "      <td>112.030225</td>\n",
       "      <td>154.344607</td>\n",
       "      <td>0.122584</td>\n",
       "    </tr>\n",
       "    <tr>\n",
       "      <th>std</th>\n",
       "      <td>15.513206</td>\n",
       "      <td>0.046126</td>\n",
       "      <td>13.229907</td>\n",
       "      <td>0.498251</td>\n",
       "      <td>17203.258664</td>\n",
       "      <td>54.206194</td>\n",
       "      <td>83.670240</td>\n",
       "      <td>0.327960</td>\n",
       "    </tr>\n",
       "    <tr>\n",
       "      <th>min</th>\n",
       "      <td>20.000000</td>\n",
       "      <td>0.000000</td>\n",
       "      <td>0.000000</td>\n",
       "      <td>0.000000</td>\n",
       "      <td>2630.000000</td>\n",
       "      <td>1.000000</td>\n",
       "      <td>10.000000</td>\n",
       "      <td>0.000000</td>\n",
       "    </tr>\n",
       "    <tr>\n",
       "      <th>25%</th>\n",
       "      <td>25.000000</td>\n",
       "      <td>1.000000</td>\n",
       "      <td>15.000000</td>\n",
       "      <td>0.000000</td>\n",
       "      <td>24426.000000</td>\n",
       "      <td>29.000000</td>\n",
       "      <td>82.000000</td>\n",
       "      <td>0.000000</td>\n",
       "    </tr>\n",
       "    <tr>\n",
       "      <th>50%</th>\n",
       "      <td>36.000000</td>\n",
       "      <td>1.000000</td>\n",
       "      <td>28.000000</td>\n",
       "      <td>0.000000</td>\n",
       "      <td>31678.500000</td>\n",
       "      <td>133.000000</td>\n",
       "      <td>154.000000</td>\n",
       "      <td>0.000000</td>\n",
       "    </tr>\n",
       "    <tr>\n",
       "      <th>75%</th>\n",
       "      <td>49.000000</td>\n",
       "      <td>1.000000</td>\n",
       "      <td>35.000000</td>\n",
       "      <td>1.000000</td>\n",
       "      <td>39408.000000</td>\n",
       "      <td>152.000000</td>\n",
       "      <td>227.000000</td>\n",
       "      <td>0.000000</td>\n",
       "    </tr>\n",
       "    <tr>\n",
       "      <th>max</th>\n",
       "      <td>85.000000</td>\n",
       "      <td>1.000000</td>\n",
       "      <td>52.000000</td>\n",
       "      <td>1.000000</td>\n",
       "      <td>540165.000000</td>\n",
       "      <td>163.000000</td>\n",
       "      <td>299.000000</td>\n",
       "      <td>1.000000</td>\n",
       "    </tr>\n",
       "  </tbody>\n",
       "</table>\n",
       "</div>"
      ],
      "text/plain": [
       "                 Age  Driving_License    Region_Code  Previously_Insured  \\\n",
       "count  380840.000000    380840.000000  380840.000000       380840.000000   \n",
       "mean       38.823593         0.997868      26.388307            0.458208   \n",
       "std        15.513206         0.046126      13.229907            0.498251   \n",
       "min        20.000000         0.000000       0.000000            0.000000   \n",
       "25%        25.000000         1.000000      15.000000            0.000000   \n",
       "50%        36.000000         1.000000      28.000000            0.000000   \n",
       "75%        49.000000         1.000000      35.000000            1.000000   \n",
       "max        85.000000         1.000000      52.000000            1.000000   \n",
       "\n",
       "       Annual_Premium  Policy_Sales_Channel        Vintage       Response  \n",
       "count   380840.000000         380840.000000  380840.000000  380840.000000  \n",
       "mean     30584.016078            112.030225     154.344607       0.122584  \n",
       "std      17203.258664             54.206194      83.670240       0.327960  \n",
       "min       2630.000000              1.000000      10.000000       0.000000  \n",
       "25%      24426.000000             29.000000      82.000000       0.000000  \n",
       "50%      31678.500000            133.000000     154.000000       0.000000  \n",
       "75%      39408.000000            152.000000     227.000000       0.000000  \n",
       "max     540165.000000            163.000000     299.000000       1.000000  "
      ]
     },
     "execution_count": 9,
     "metadata": {},
     "output_type": "execute_result"
    }
   ],
   "source": [
    "numerical_train = train.select_dtypes(\"number\")\n",
    "numerical_train.describe()\n",
    "# mengelempokan data yang memiliki dtype angka(float,integer) menjadi data frame baru dengan nama numerical_data\n",
    "#melihat nilai statistikal pada masing2 kolom di numerica_data"
   ]
  },
  {
   "cell_type": "markdown",
   "id": "589159ef",
   "metadata": {},
   "source": [
    "Observation:\n",
    "* secara keseluruhan nilai maximum dan minimum setiap kolom masih masuk akal\n",
    "* `Driving_License`,`Previously_Insured`,`Response` adalah kolom bolean sehingga selama data nya masih bernilai 1 dan 0 tidak perlu menyimpulkan kesimetrisan .\n",
    "* nilai mean mendekati nilai dari median(50%) pada kolom `Age`,`Region_Code`,`Annual_Premium`,`Vintage` maka data menunjukan distribusi yang simetris\n",
    "* karna nilai mean tidak mendekati nilai dari median(50%) pada kolom `Policy_Sales_Channel` maka data tidak menunjukan distribusi yang simetris"
   ]
  },
  {
   "cell_type": "code",
   "execution_count": 10,
   "id": "a7811b69",
   "metadata": {},
   "outputs": [
    {
     "data": {
      "text/html": [
       "<div>\n",
       "<style scoped>\n",
       "    .dataframe tbody tr th:only-of-type {\n",
       "        vertical-align: middle;\n",
       "    }\n",
       "\n",
       "    .dataframe tbody tr th {\n",
       "        vertical-align: top;\n",
       "    }\n",
       "\n",
       "    .dataframe thead th {\n",
       "        text-align: right;\n",
       "    }\n",
       "</style>\n",
       "<table border=\"1\" class=\"dataframe\">\n",
       "  <thead>\n",
       "    <tr style=\"text-align: right;\">\n",
       "      <th></th>\n",
       "      <th>Gender</th>\n",
       "      <th>Vehicle_Age</th>\n",
       "      <th>Vehicle_Damage</th>\n",
       "    </tr>\n",
       "  </thead>\n",
       "  <tbody>\n",
       "    <tr>\n",
       "      <th>count</th>\n",
       "      <td>380840</td>\n",
       "      <td>380840</td>\n",
       "      <td>380840</td>\n",
       "    </tr>\n",
       "    <tr>\n",
       "      <th>unique</th>\n",
       "      <td>2</td>\n",
       "      <td>3</td>\n",
       "      <td>2</td>\n",
       "    </tr>\n",
       "    <tr>\n",
       "      <th>top</th>\n",
       "      <td>Male</td>\n",
       "      <td>1-2 Year</td>\n",
       "      <td>Yes</td>\n",
       "    </tr>\n",
       "    <tr>\n",
       "      <th>freq</th>\n",
       "      <td>205938</td>\n",
       "      <td>200167</td>\n",
       "      <td>192277</td>\n",
       "    </tr>\n",
       "  </tbody>\n",
       "</table>\n",
       "</div>"
      ],
      "text/plain": [
       "        Gender Vehicle_Age Vehicle_Damage\n",
       "count   380840      380840         380840\n",
       "unique       2           3              2\n",
       "top       Male    1-2 Year            Yes\n",
       "freq    205938      200167         192277"
      ]
     },
     "execution_count": 10,
     "metadata": {},
     "output_type": "execute_result"
    }
   ],
   "source": [
    "categoricals_train = train.select_dtypes(object)\n",
    "categoricals_train.describe()\n",
    "# mengelempokan data yang memiliki dtype object menjadi data frame baru dengan nama categoricals\n",
    "#melihat describe pada data categoricals"
   ]
  },
  {
   "cell_type": "markdown",
   "id": "a28aaa4a",
   "metadata": {},
   "source": [
    "Observations:\n",
    "* pada umumnya semua kolom pada data hanya memiliki 2 atau 3 unique value seperti pada kolom `gender` yang hanya punya nilai male dan female atau pada kolom `Vehicle_Damage` yang hanya punya nilai yes dan no"
   ]
  },
  {
   "cell_type": "code",
   "execution_count": 11,
   "id": "4597091a",
   "metadata": {},
   "outputs": [
    {
     "name": "stdout",
     "output_type": "stream",
     "text": [
      "Value counts of Gender column\n",
      "Male      205938\n",
      "Female    174902\n",
      "Name: Gender, dtype: int64 \n",
      "\n",
      "Value counts of Vehicle_Age column\n",
      "1-2 Year     200167\n",
      "< 1 Year     164671\n",
      "> 2 Years     16002\n",
      "Name: Vehicle_Age, dtype: int64 \n",
      "\n",
      "Value counts of Vehicle_Damage column\n",
      "Yes    192277\n",
      "No     188563\n",
      "Name: Vehicle_Damage, dtype: int64 \n",
      "\n"
     ]
    }
   ],
   "source": [
    "for col in categoricals_train.columns:\n",
    "  print(f\"Value counts of {col} column\")\n",
    "  print(train[col].value_counts(), '\\n')\n",
    "    \n",
    "#melihat unique value pada masing2 kolom "
   ]
  },
  {
   "cell_type": "markdown",
   "id": "b3480f75",
   "metadata": {},
   "source": [
    "# Univariate Analysis"
   ]
  },
  {
   "cell_type": "markdown",
   "id": "b4eaffe0",
   "metadata": {},
   "source": [
    "## Boxplot to detect outliers"
   ]
  },
  {
   "cell_type": "code",
   "execution_count": 12,
   "id": "37dc17fe",
   "metadata": {},
   "outputs": [
    {
     "data": {
      "image/png": "[encoded data removed]",
      "text/plain": [
       "<Figure size 864x288 with 8 Axes>"
      ]
     },
     "metadata": {
      "needs_background": "light"
     },
     "output_type": "display_data"
    }
   ],
   "source": [
    "plt.figure(figsize=(12,4))\n",
    "\n",
    "# plotting\n",
    "features = numerical_train.columns\n",
    "for i in range(0, len(features)):\n",
    "    plt.subplot(1, len(features), i+1)\n",
    "    sns.boxplot(y=train[features[i]], color='cyan')\n",
    "    plt.tight_layout()"
   ]
  },
  {
   "cell_type": "markdown",
   "id": "31b779c0",
   "metadata": {},
   "source": [
    "- pada boxplot dapat dilihat bahwa adanya outlier pada kolom `Annual_Premium` yang mana akan di handle nantinya\n",
    "- outlier pada kolom `Driving_License` dan `Response` dapat di terima karena data hanya bernilai 0 dan 1"
   ]
  },
  {
   "cell_type": "markdown",
   "id": "f56b0b10",
   "metadata": {},
   "source": [
    "# Melihat Sebaran Data "
   ]
  },
  {
   "cell_type": "code",
   "execution_count": 13,
   "id": "e9aa5396",
   "metadata": {},
   "outputs": [
    {
     "data": {
      "image/png": "[encoded data removed]",
      "text/plain": [
       "<Figure size 864x432 with 5 Axes>"
      ]
     },
     "metadata": {
      "needs_background": "light"
     },
     "output_type": "display_data"
    }
   ],
   "source": [
    "plt.figure(figsize=(12,6))\n",
    "\n",
    "features = ['Age','Region_Code','Annual_Premium','Policy_Sales_Channel','Vintage']\n",
    "for i in range(0, len(features)):\n",
    "    plt.subplot(2, len(features)//2 + 1, i+1)\n",
    "    #plt.subplot(1, len(features), i+1)\n",
    "    sns.distplot(x=train[features[i]], color='skyblue')\n",
    "    plt.xlabel(features[i])\n",
    "    plt.tight_layout()"
   ]
  },
  {
   "cell_type": "code",
   "execution_count": 25,
   "id": "b61242a1",
   "metadata": {},
   "outputs": [
    {
     "data": {
      "image/png": "[encoded data removed]",
      "text/plain": [
       "<Figure size 864x720 with 6 Axes>"
      ]
     },
     "metadata": {
      "needs_background": "light"
     },
     "output_type": "display_data"
    }
   ],
   "source": [
    "services = ['Gender', 'Vehicle_Age','Driving_License','Previously_Insured','Vehicle_Damage','Response'] \n",
    "fig, axes = plt.subplots(nrows = 3,ncols = 2,figsize = (12,10))\n",
    "for i, item in enumerate(services):\n",
    "    if i < 3:\n",
    "        ax = train[item].value_counts().plot(kind = 'bar',ax=axes[i,0],rot = 0)\n",
    "        \n",
    "    elif i >=3 and i < 6:\n",
    "        ax = train[item].value_counts().plot(kind = 'bar',ax=axes[i-3,1],rot = 0)\n",
    "    ax.set_title(item)   "
   ]
  },
  {
   "cell_type": "markdown",
   "id": "21e6ad0c",
   "metadata": {},
   "source": [
    "# Bivariate Analysis"
   ]
  },
  {
   "cell_type": "markdown",
   "id": "f55d1a65",
   "metadata": {},
   "source": [
    "## Age with response"
   ]
  },
  {
   "cell_type": "code",
   "execution_count": 14,
   "id": "804393f5",
   "metadata": {},
   "outputs": [
    {
     "data": {
      "text/plain": [
       "<AxesSubplot:xlabel='Age', ylabel='Count'>"
      ]
     },
     "execution_count": 14,
     "metadata": {},
     "output_type": "execute_result"
    },
    {
     "data": {
      "image/png": "[encoded data removed]",
      "text/plain": [
       "<Figure size 432x288 with 1 Axes>"
      ]
     },
     "metadata": {
      "needs_background": "light"
     },
     "output_type": "display_data"
    }
   ],
   "source": [
    "sns.histplot(data=train, x=\"Age\", hue=\"Response\",  kde=True)"
   ]
  },
  {
   "cell_type": "code",
   "execution_count": 15,
   "id": "a4dc7d67",
   "metadata": {},
   "outputs": [],
   "source": [
    "train.loc[train['Age']<=35, 'age_group'] = '20-35'\n",
    "train.loc[train['Age'].between(36,55), 'age_group'] = '36-55'\n",
    "train.loc[train['Age']>55, 'age_group'] = '>55'"
   ]
  },
  {
   "cell_type": "code",
   "execution_count": 16,
   "id": "733d4c64",
   "metadata": {},
   "outputs": [
    {
     "data": {
      "text/html": [
       "<div>\n",
       "<style scoped>\n",
       "    .dataframe tbody tr th:only-of-type {\n",
       "        vertical-align: middle;\n",
       "    }\n",
       "\n",
       "    .dataframe tbody tr th {\n",
       "        vertical-align: top;\n",
       "    }\n",
       "\n",
       "    .dataframe thead th {\n",
       "        text-align: right;\n",
       "    }\n",
       "</style>\n",
       "<table border=\"1\" class=\"dataframe\">\n",
       "  <thead>\n",
       "    <tr style=\"text-align: right;\">\n",
       "      <th></th>\n",
       "      <th>Gender</th>\n",
       "      <th>Age</th>\n",
       "      <th>Driving_License</th>\n",
       "      <th>Region_Code</th>\n",
       "      <th>Previously_Insured</th>\n",
       "      <th>Vehicle_Age</th>\n",
       "      <th>Vehicle_Damage</th>\n",
       "      <th>Annual_Premium</th>\n",
       "      <th>Policy_Sales_Channel</th>\n",
       "      <th>Vintage</th>\n",
       "      <th>Response</th>\n",
       "      <th>age_group</th>\n",
       "    </tr>\n",
       "  </thead>\n",
       "  <tbody>\n",
       "    <tr>\n",
       "      <th>250678</th>\n",
       "      <td>Female</td>\n",
       "      <td>23</td>\n",
       "      <td>1</td>\n",
       "      <td>15.0</td>\n",
       "      <td>1</td>\n",
       "      <td>&lt; 1 Year</td>\n",
       "      <td>No</td>\n",
       "      <td>29786.0</td>\n",
       "      <td>152.0</td>\n",
       "      <td>63</td>\n",
       "      <td>0</td>\n",
       "      <td>20-35</td>\n",
       "    </tr>\n",
       "    <tr>\n",
       "      <th>124772</th>\n",
       "      <td>Male</td>\n",
       "      <td>24</td>\n",
       "      <td>1</td>\n",
       "      <td>25.0</td>\n",
       "      <td>0</td>\n",
       "      <td>&lt; 1 Year</td>\n",
       "      <td>No</td>\n",
       "      <td>30833.0</td>\n",
       "      <td>152.0</td>\n",
       "      <td>219</td>\n",
       "      <td>0</td>\n",
       "      <td>20-35</td>\n",
       "    </tr>\n",
       "    <tr>\n",
       "      <th>75477</th>\n",
       "      <td>Female</td>\n",
       "      <td>40</td>\n",
       "      <td>1</td>\n",
       "      <td>28.0</td>\n",
       "      <td>0</td>\n",
       "      <td>1-2 Year</td>\n",
       "      <td>Yes</td>\n",
       "      <td>2630.0</td>\n",
       "      <td>124.0</td>\n",
       "      <td>89</td>\n",
       "      <td>0</td>\n",
       "      <td>36-55</td>\n",
       "    </tr>\n",
       "    <tr>\n",
       "      <th>277761</th>\n",
       "      <td>Male</td>\n",
       "      <td>59</td>\n",
       "      <td>1</td>\n",
       "      <td>28.0</td>\n",
       "      <td>1</td>\n",
       "      <td>1-2 Year</td>\n",
       "      <td>No</td>\n",
       "      <td>49934.0</td>\n",
       "      <td>124.0</td>\n",
       "      <td>138</td>\n",
       "      <td>0</td>\n",
       "      <td>&gt;55</td>\n",
       "    </tr>\n",
       "    <tr>\n",
       "      <th>249809</th>\n",
       "      <td>Male</td>\n",
       "      <td>50</td>\n",
       "      <td>1</td>\n",
       "      <td>14.0</td>\n",
       "      <td>0</td>\n",
       "      <td>&gt; 2 Years</td>\n",
       "      <td>Yes</td>\n",
       "      <td>29353.0</td>\n",
       "      <td>26.0</td>\n",
       "      <td>46</td>\n",
       "      <td>1</td>\n",
       "      <td>36-55</td>\n",
       "    </tr>\n",
       "  </tbody>\n",
       "</table>\n",
       "</div>"
      ],
      "text/plain": [
       "        Gender  Age  Driving_License  Region_Code  Previously_Insured  \\\n",
       "250678  Female   23                1         15.0                   1   \n",
       "124772    Male   24                1         25.0                   0   \n",
       "75477   Female   40                1         28.0                   0   \n",
       "277761    Male   59                1         28.0                   1   \n",
       "249809    Male   50                1         14.0                   0   \n",
       "\n",
       "       Vehicle_Age Vehicle_Damage  Annual_Premium  Policy_Sales_Channel  \\\n",
       "250678    < 1 Year             No         29786.0                 152.0   \n",
       "124772    < 1 Year             No         30833.0                 152.0   \n",
       "75477     1-2 Year            Yes          2630.0                 124.0   \n",
       "277761    1-2 Year             No         49934.0                 124.0   \n",
       "249809   > 2 Years            Yes         29353.0                  26.0   \n",
       "\n",
       "        Vintage  Response age_group  \n",
       "250678       63         0     20-35  \n",
       "124772      219         0     20-35  \n",
       "75477        89         0     36-55  \n",
       "277761      138         0       >55  \n",
       "249809       46         1     36-55  "
      ]
     },
     "execution_count": 16,
     "metadata": {},
     "output_type": "execute_result"
    }
   ],
   "source": [
    "train.sample(5)"
   ]
  },
  {
   "cell_type": "code",
   "execution_count": 17,
   "id": "76c062be",
   "metadata": {},
   "outputs": [
    {
     "data": {
      "text/plain": [
       "<AxesSubplot:xlabel='age_group'>"
      ]
     },
     "execution_count": 17,
     "metadata": {},
     "output_type": "execute_result"
    },
    {
     "data": {
      "image/png": "[encoded data removed]",
      "text/plain": [
       "<Figure size 432x288 with 1 Axes>"
      ]
     },
     "metadata": {
      "needs_background": "light"
     },
     "output_type": "display_data"
    }
   ],
   "source": [
    "pd.crosstab(train.age_group, train.Response ).plot.bar(stacked=True,rot=0)\n"
   ]
  },
  {
   "cell_type": "markdown",
   "id": "d6c0a731",
   "metadata": {},
   "source": [
    "## Annual Premium with response"
   ]
  },
  {
   "cell_type": "code",
   "execution_count": 18,
   "id": "8c824d28",
   "metadata": {},
   "outputs": [
    {
     "data": {
      "text/plain": [
       "<AxesSubplot:xlabel='Annual_Premium', ylabel='Count'>"
      ]
     },
     "execution_count": 18,
     "metadata": {},
     "output_type": "execute_result"
    },
    {
     "data": {
      "image/png": "[encoded data removed]",
      "text/plain": [
       "<Figure size 432x288 with 1 Axes>"
      ]
     },
     "metadata": {
      "needs_background": "light"
     },
     "output_type": "display_data"
    }
   ],
   "source": [
    "sns.histplot(data=train, x=\"Annual_Premium\", hue=\"Response\",  kde=True)"
   ]
  },
  {
   "cell_type": "code",
   "execution_count": 19,
   "id": "0565b1b5",
   "metadata": {},
   "outputs": [],
   "source": [
    "train3=train[train[\"Annual_Premium\"]<=100000]"
   ]
  },
  {
   "cell_type": "code",
   "execution_count": 20,
   "id": "22341369",
   "metadata": {},
   "outputs": [
    {
     "data": {
      "text/plain": [
       "<AxesSubplot:xlabel='Annual_Premium', ylabel='Count'>"
      ]
     },
     "execution_count": 20,
     "metadata": {},
     "output_type": "execute_result"
    },
    {
     "data": {
      "image/png": "[encoded data removed]",
      "text/plain": [
       "<Figure size 432x288 with 1 Axes>"
      ]
     },
     "metadata": {
      "needs_background": "light"
     },
     "output_type": "display_data"
    }
   ],
   "source": [
    "sns.histplot(data=train3, x=\"Annual_Premium\", hue=\"Response\",  kde=True)"
   ]
  },
  {
   "cell_type": "code",
   "execution_count": 21,
   "id": "8f5d5058",
   "metadata": {},
   "outputs": [
    {
     "data": {
      "text/html": [
       "<div>\n",
       "<style scoped>\n",
       "    .dataframe tbody tr th:only-of-type {\n",
       "        vertical-align: middle;\n",
       "    }\n",
       "\n",
       "    .dataframe tbody tr th {\n",
       "        vertical-align: top;\n",
       "    }\n",
       "\n",
       "    .dataframe thead th {\n",
       "        text-align: right;\n",
       "    }\n",
       "</style>\n",
       "<table border=\"1\" class=\"dataframe\">\n",
       "  <thead>\n",
       "    <tr style=\"text-align: right;\">\n",
       "      <th></th>\n",
       "      <th>Gender</th>\n",
       "      <th>Age</th>\n",
       "      <th>Driving_License</th>\n",
       "      <th>Region_Code</th>\n",
       "      <th>Previously_Insured</th>\n",
       "      <th>Vehicle_Age</th>\n",
       "      <th>Vehicle_Damage</th>\n",
       "      <th>Annual_Premium</th>\n",
       "      <th>Policy_Sales_Channel</th>\n",
       "      <th>Vintage</th>\n",
       "      <th>Response</th>\n",
       "      <th>age_group</th>\n",
       "    </tr>\n",
       "  </thead>\n",
       "  <tbody>\n",
       "    <tr>\n",
       "      <th>202548</th>\n",
       "      <td>Male</td>\n",
       "      <td>49</td>\n",
       "      <td>1</td>\n",
       "      <td>28.0</td>\n",
       "      <td>0</td>\n",
       "      <td>1-2 Year</td>\n",
       "      <td>Yes</td>\n",
       "      <td>34961.0</td>\n",
       "      <td>26.0</td>\n",
       "      <td>54</td>\n",
       "      <td>0</td>\n",
       "      <td>36-55</td>\n",
       "    </tr>\n",
       "    <tr>\n",
       "      <th>8595</th>\n",
       "      <td>Male</td>\n",
       "      <td>42</td>\n",
       "      <td>1</td>\n",
       "      <td>28.0</td>\n",
       "      <td>0</td>\n",
       "      <td>1-2 Year</td>\n",
       "      <td>Yes</td>\n",
       "      <td>2630.0</td>\n",
       "      <td>124.0</td>\n",
       "      <td>113</td>\n",
       "      <td>0</td>\n",
       "      <td>36-55</td>\n",
       "    </tr>\n",
       "    <tr>\n",
       "      <th>102098</th>\n",
       "      <td>Female</td>\n",
       "      <td>80</td>\n",
       "      <td>1</td>\n",
       "      <td>28.0</td>\n",
       "      <td>0</td>\n",
       "      <td>1-2 Year</td>\n",
       "      <td>Yes</td>\n",
       "      <td>33418.0</td>\n",
       "      <td>26.0</td>\n",
       "      <td>107</td>\n",
       "      <td>0</td>\n",
       "      <td>&gt;55</td>\n",
       "    </tr>\n",
       "    <tr>\n",
       "      <th>117510</th>\n",
       "      <td>Male</td>\n",
       "      <td>50</td>\n",
       "      <td>1</td>\n",
       "      <td>46.0</td>\n",
       "      <td>0</td>\n",
       "      <td>1-2 Year</td>\n",
       "      <td>No</td>\n",
       "      <td>24610.0</td>\n",
       "      <td>124.0</td>\n",
       "      <td>239</td>\n",
       "      <td>0</td>\n",
       "      <td>36-55</td>\n",
       "    </tr>\n",
       "    <tr>\n",
       "      <th>66642</th>\n",
       "      <td>Male</td>\n",
       "      <td>28</td>\n",
       "      <td>1</td>\n",
       "      <td>13.0</td>\n",
       "      <td>0</td>\n",
       "      <td>&lt; 1 Year</td>\n",
       "      <td>No</td>\n",
       "      <td>22435.0</td>\n",
       "      <td>152.0</td>\n",
       "      <td>267</td>\n",
       "      <td>0</td>\n",
       "      <td>20-35</td>\n",
       "    </tr>\n",
       "  </tbody>\n",
       "</table>\n",
       "</div>"
      ],
      "text/plain": [
       "        Gender  Age  Driving_License  Region_Code  Previously_Insured  \\\n",
       "202548    Male   49                1         28.0                   0   \n",
       "8595      Male   42                1         28.0                   0   \n",
       "102098  Female   80                1         28.0                   0   \n",
       "117510    Male   50                1         46.0                   0   \n",
       "66642     Male   28                1         13.0                   0   \n",
       "\n",
       "       Vehicle_Age Vehicle_Damage  Annual_Premium  Policy_Sales_Channel  \\\n",
       "202548    1-2 Year            Yes         34961.0                  26.0   \n",
       "8595      1-2 Year            Yes          2630.0                 124.0   \n",
       "102098    1-2 Year            Yes         33418.0                  26.0   \n",
       "117510    1-2 Year             No         24610.0                 124.0   \n",
       "66642     < 1 Year             No         22435.0                 152.0   \n",
       "\n",
       "        Vintage  Response age_group  \n",
       "202548       54         0     36-55  \n",
       "8595        113         0     36-55  \n",
       "102098      107         0       >55  \n",
       "117510      239         0     36-55  \n",
       "66642       267         0     20-35  "
      ]
     },
     "execution_count": 21,
     "metadata": {},
     "output_type": "execute_result"
    }
   ],
   "source": [
    "train.sample(5)"
   ]
  },
  {
   "cell_type": "markdown",
   "id": "2c0fc2b5",
   "metadata": {},
   "source": [
    "## vintage with response"
   ]
  },
  {
   "cell_type": "code",
   "execution_count": 22,
   "id": "72150b6c",
   "metadata": {},
   "outputs": [
    {
     "data": {
      "text/plain": [
       "<AxesSubplot:xlabel='Vintage', ylabel='Count'>"
      ]
     },
     "execution_count": 22,
     "metadata": {},
     "output_type": "execute_result"
    },
    {
     "data": {
      "image/png": "[encoded data removed]",
      "text/plain": [
       "<Figure size 432x288 with 1 Axes>"
      ]
     },
     "metadata": {
      "needs_background": "light"
     },
     "output_type": "display_data"
    }
   ],
   "source": [
    "sns.histplot(data=train3, x=\"Vintage\", hue=\"Response\",  kde=True)"
   ]
  },
  {
   "cell_type": "markdown",
   "id": "8ba6f92a",
   "metadata": {},
   "source": [
    "# Policy_Sales_Channel"
   ]
  },
  {
   "cell_type": "code",
   "execution_count": 23,
   "id": "af6f4c9f",
   "metadata": {},
   "outputs": [
    {
     "data": {
      "text/plain": [
       "<AxesSubplot:xlabel='Policy_Sales_Channel', ylabel='Count'>"
      ]
     },
     "execution_count": 23,
     "metadata": {},
     "output_type": "execute_result"
    },
    {
     "data": {
      "image/png": "[encoded data removed]",
      "text/plain": [
       "<Figure size 432x288 with 1 Axes>"
      ]
     },
     "metadata": {
      "needs_background": "light"
     },
     "output_type": "display_data"
    }
   ],
   "source": [
    "sns.histplot(data=train3, x=\"Policy_Sales_Channel\", hue=\"Response\",  kde=True)"
   ]
  },
  {
   "cell_type": "markdown",
   "id": "83a37011",
   "metadata": {},
   "source": [
    "## Region_Code with response "
   ]
  },
  {
   "cell_type": "code",
   "execution_count": 24,
   "id": "3d4beb7c",
   "metadata": {},
   "outputs": [
    {
     "data": {
      "text/plain": [
       "<AxesSubplot:xlabel='Region_Code', ylabel='Count'>"
      ]
     },
     "execution_count": 24,
     "metadata": {},
     "output_type": "execute_result"
    },
    {
     "data": {
      "image/png": "[encoded data removed]",
      "text/plain": [
       "<Figure size 432x288 with 1 Axes>"
      ]
     },
     "metadata": {
      "needs_background": "light"
     },
     "output_type": "display_data"
    }
   ],
   "source": [
    "sns.histplot(data=train3, x=\"Region_Code\", hue=\"Response\",  kde=True)"
   ]
  },
  {
   "cell_type": "markdown",
   "id": "351018d5",
   "metadata": {},
   "source": [
    "## Table Categorical "
   ]
  },
  {
   "cell_type": "code",
   "execution_count": 27,
   "id": "8e37f795",
   "metadata": {},
   "outputs": [
    {
     "data": {
      "image/png": "[encoded data removed]",
      "text/plain": [
       "<Figure size 576x432 with 6 Axes>"
      ]
     },
     "metadata": {
      "needs_background": "light"
     },
     "output_type": "display_data"
    }
   ],
   "source": [
    "services = ['Gender', 'Vehicle_Age','Driving_License','Previously_Insured','Vehicle_Damage']\n",
    "fig, axes = plt.subplots(nrows = 2,ncols = 3,figsize = (8,6))\n",
    "for i, item in enumerate(services):\n",
    "    if i < 2:\n",
    "        item = pd.crosstab(train[item],train['Response'])\n",
    "        item.div(item.sum(1).astype(float),axis=0).plot(kind='bar',stacked=True, ax=axes[i,0],rot = 0)\n",
    "        \n",
    "        \n",
    "    elif i >=2 and i < 4:\n",
    "        item = pd.crosstab(train[item],train['Response'])\n",
    "        item.div(item.sum(1).astype(float),axis=0).plot(kind='bar',stacked=True, ax=axes[i-2,1],rot = 0)\n",
    "        \n",
    "        \n",
    "    elif i >=4 and i < 6:\n",
    "        item = pd.crosstab(train[item],train['Response'])\n",
    "        item.div(item.sum(1).astype(float),axis=0).plot(kind='bar',stacked=True, ax=axes[i-4,2],rot = 0)\n",
    "       \n",
    "    \n"
   ]
  },
  {
   "cell_type": "code",
   "execution_count": 26,
   "id": "c5aa5c4c",
   "metadata": {},
   "outputs": [
    {
     "data": {
      "text/plain": [
       "<AxesSubplot:>"
      ]
     },
     "execution_count": 26,
     "metadata": {},
     "output_type": "execute_result"
    },
    {
     "data": {
      "image/png": "[encoded data removed]",
      "text/plain": [
       "<Figure size 432x288 with 2 Axes>"
      ]
     },
     "metadata": {
      "needs_background": "light"
     },
     "output_type": "display_data"
    }
   ],
   "source": [
    "# correlation heatmap\n",
    "correlation = train.corr()\n",
    "sns.heatmap(correlation, annot=True, fmt='.2f')"
   ]
  },
  {
   "cell_type": "markdown",
   "id": "a5e6d1f6",
   "metadata": {},
   "source": [
    "OBSERVASI\n",
    "- Gender tidak mempengaruhi response pelanggan\n",
    "- pelanggan yang belum memiliki asuransi kendaraan lebih berminat untuk berlangganan asuransi\n",
    "- pelanggan dengan pemakaian kendaraan diatas 2 tahun lebih banyak tertarik untuk meng asuransikan kendaraan nya\n",
    "-kendaraan yang sudah pernah mengalami kecelakaan lebih banyak yang tertarik untuk mengasuransikan kendaraan nya\n",
    "- pelanggan yang mempunyai driving license lebih banyak yang mengasuransikan kendaraan nya"
   ]
  },
  {
   "cell_type": "markdown",
   "id": "843818cc",
   "metadata": {},
   "source": [
    "# Questions"
   ]
  },
  {
   "cell_type": "markdown",
   "id": "381269a5",
   "metadata": {},
   "source": [
    "## 1. pada umur kendaraan berapa biasa nya pelanggan pernah mengalami tabrakan mobil?"
   ]
  },
  {
   "cell_type": "code",
   "execution_count": 28,
   "id": "ba44add2",
   "metadata": {},
   "outputs": [
    {
     "data": {
      "text/plain": [
       "<AxesSubplot:xlabel='Vehicle_Age', ylabel='count'>"
      ]
     },
     "execution_count": 28,
     "metadata": {},
     "output_type": "execute_result"
    },
    {
     "data": {
      "image/png": "[encoded data removed]",
      "text/plain": [
       "<Figure size 432x288 with 1 Axes>"
      ]
     },
     "metadata": {
      "needs_background": "light"
     },
     "output_type": "display_data"
    }
   ],
   "source": [
    "# research_exp affect admit_status?\n",
    "sns.countplot(data=train,\n",
    "            x='Vehicle_Age',\n",
    "            hue='Vehicle_Damage')"
   ]
  },
  {
   "cell_type": "markdown",
   "id": "91b531dd",
   "metadata": {},
   "source": [
    "## 2. 10 kode region mana saja dengan pelanggan terbanyak?"
   ]
  },
  {
   "cell_type": "code",
   "execution_count": 29,
   "id": "7c7c6922",
   "metadata": {},
   "outputs": [
    {
     "data": {
      "text/html": [
       "<div>\n",
       "<style scoped>\n",
       "    .dataframe tbody tr th:only-of-type {\n",
       "        vertical-align: middle;\n",
       "    }\n",
       "\n",
       "    .dataframe tbody tr th {\n",
       "        vertical-align: top;\n",
       "    }\n",
       "\n",
       "    .dataframe thead th {\n",
       "        text-align: right;\n",
       "    }\n",
       "</style>\n",
       "<table border=\"1\" class=\"dataframe\">\n",
       "  <thead>\n",
       "    <tr style=\"text-align: right;\">\n",
       "      <th></th>\n",
       "      <th>Region_Code</th>\n",
       "      <th>num_trx</th>\n",
       "    </tr>\n",
       "  </thead>\n",
       "  <tbody>\n",
       "    <tr>\n",
       "      <th>28</th>\n",
       "      <td>28.0</td>\n",
       "      <td>106335</td>\n",
       "    </tr>\n",
       "    <tr>\n",
       "      <th>8</th>\n",
       "      <td>8.0</td>\n",
       "      <td>33857</td>\n",
       "    </tr>\n",
       "    <tr>\n",
       "      <th>46</th>\n",
       "      <td>46.0</td>\n",
       "      <td>19747</td>\n",
       "    </tr>\n",
       "    <tr>\n",
       "      <th>41</th>\n",
       "      <td>41.0</td>\n",
       "      <td>18256</td>\n",
       "    </tr>\n",
       "    <tr>\n",
       "      <th>15</th>\n",
       "      <td>15.0</td>\n",
       "      <td>13300</td>\n",
       "    </tr>\n",
       "    <tr>\n",
       "      <th>30</th>\n",
       "      <td>30.0</td>\n",
       "      <td>12177</td>\n",
       "    </tr>\n",
       "    <tr>\n",
       "      <th>29</th>\n",
       "      <td>29.0</td>\n",
       "      <td>11052</td>\n",
       "    </tr>\n",
       "    <tr>\n",
       "      <th>50</th>\n",
       "      <td>50.0</td>\n",
       "      <td>10237</td>\n",
       "    </tr>\n",
       "    <tr>\n",
       "      <th>3</th>\n",
       "      <td>3.0</td>\n",
       "      <td>9245</td>\n",
       "    </tr>\n",
       "    <tr>\n",
       "      <th>11</th>\n",
       "      <td>11.0</td>\n",
       "      <td>9229</td>\n",
       "    </tr>\n",
       "  </tbody>\n",
       "</table>\n",
       "</div>"
      ],
      "text/plain": [
       "    Region_Code  num_trx\n",
       "28         28.0   106335\n",
       "8           8.0    33857\n",
       "46         46.0    19747\n",
       "41         41.0    18256\n",
       "15         15.0    13300\n",
       "30         30.0    12177\n",
       "29         29.0    11052\n",
       "50         50.0    10237\n",
       "3           3.0     9245\n",
       "11         11.0     9229"
      ]
     },
     "execution_count": 29,
     "metadata": {},
     "output_type": "execute_result"
    }
   ],
   "source": [
    "top10_prod = (train\n",
    "            .groupby('Region_Code')\n",
    "            .agg(num_trx=('Region_Code','count'))\n",
    "            .reset_index()\n",
    "            .sort_values('num_trx',ascending=False)\n",
    "            .head(10)\n",
    "            )\n",
    "prod = (train\n",
    "            .groupby('Region_Code')\n",
    "            .agg(trx=('Region_Code','count'))\n",
    "            .reset_index()\n",
    "            .sort_values('trx',ascending=False)\n",
    "            \n",
    "            )\n",
    "top10_prod\n"
   ]
  },
  {
   "cell_type": "code",
   "execution_count": 30,
   "id": "a829f5bf",
   "metadata": {},
   "outputs": [
    {
     "data": {
      "text/html": [
       "<div>\n",
       "<style scoped>\n",
       "    .dataframe tbody tr th:only-of-type {\n",
       "        vertical-align: middle;\n",
       "    }\n",
       "\n",
       "    .dataframe tbody tr th {\n",
       "        vertical-align: top;\n",
       "    }\n",
       "\n",
       "    .dataframe thead th {\n",
       "        text-align: right;\n",
       "    }\n",
       "</style>\n",
       "<table border=\"1\" class=\"dataframe\">\n",
       "  <thead>\n",
       "    <tr style=\"text-align: right;\">\n",
       "      <th></th>\n",
       "      <th>num_trx</th>\n",
       "      <th>cumperc</th>\n",
       "    </tr>\n",
       "  </thead>\n",
       "  <tbody>\n",
       "    <tr>\n",
       "      <th>28</th>\n",
       "      <td>106335</td>\n",
       "      <td>27.921174</td>\n",
       "    </tr>\n",
       "    <tr>\n",
       "      <th>8</th>\n",
       "      <td>33857</td>\n",
       "      <td>36.811259</td>\n",
       "    </tr>\n",
       "    <tr>\n",
       "      <th>46</th>\n",
       "      <td>19747</td>\n",
       "      <td>41.996376</td>\n",
       "    </tr>\n",
       "    <tr>\n",
       "      <th>41</th>\n",
       "      <td>18256</td>\n",
       "      <td>46.789991</td>\n",
       "    </tr>\n",
       "    <tr>\n",
       "      <th>15</th>\n",
       "      <td>13300</td>\n",
       "      <td>50.282271</td>\n",
       "    </tr>\n",
       "    <tr>\n",
       "      <th>30</th>\n",
       "      <td>12177</td>\n",
       "      <td>53.479677</td>\n",
       "    </tr>\n",
       "    <tr>\n",
       "      <th>29</th>\n",
       "      <td>11052</td>\n",
       "      <td>56.381683</td>\n",
       "    </tr>\n",
       "    <tr>\n",
       "      <th>50</th>\n",
       "      <td>10237</td>\n",
       "      <td>59.069688</td>\n",
       "    </tr>\n",
       "    <tr>\n",
       "      <th>3</th>\n",
       "      <td>9245</td>\n",
       "      <td>61.497217</td>\n",
       "    </tr>\n",
       "    <tr>\n",
       "      <th>11</th>\n",
       "      <td>9229</td>\n",
       "      <td>63.920544</td>\n",
       "    </tr>\n",
       "  </tbody>\n",
       "</table>\n",
       "</div>"
      ],
      "text/plain": [
       "    num_trx    cumperc\n",
       "28   106335  27.921174\n",
       "8     33857  36.811259\n",
       "46    19747  41.996376\n",
       "41    18256  46.789991\n",
       "15    13300  50.282271\n",
       "30    12177  53.479677\n",
       "29    11052  56.381683\n",
       "50    10237  59.069688\n",
       "3      9245  61.497217\n",
       "11     9229  63.920544"
      ]
     },
     "execution_count": 30,
     "metadata": {},
     "output_type": "execute_result"
    }
   ],
   "source": [
    "df=top10_prod[['num_trx']]\n",
    "df['cumperc'] = df['num_trx'].cumsum()/prod['trx'].sum()*100\n",
    "df.index = ['28','8','46','41','15','30','29','50','3','11',]\n",
    "df"
   ]
  },
  {
   "cell_type": "code",
   "execution_count": 31,
   "id": "c87f6ad9",
   "metadata": {},
   "outputs": [
    {
     "data": {
      "image/png": "[encoded data removed]",
      "text/plain": [
       "<Figure size 432x288 with 2 Axes>"
      ]
     },
     "metadata": {
      "needs_background": "light"
     },
     "output_type": "display_data"
    }
   ],
   "source": [
    "import matplotlib.pyplot as plt\n",
    "from matplotlib.ticker import PercentFormatter\n",
    "\n",
    "#define aesthetics for plot\n",
    "color1 = 'steelblue'\n",
    "color2 = 'red'\n",
    "line_size = 4\n",
    "\n",
    "#create basic bar plot\n",
    "fig, ax = plt.subplots()\n",
    "ax.bar(df.index, df['num_trx'], color=color1)\n",
    "\n",
    "#add cumulative percentage line to plot\n",
    "ax2 = ax.twinx()\n",
    "ax2.plot(df.index, df['cumperc'], color=color2, marker=\"D\", ms=line_size)\n",
    "ax2.yaxis.set_major_formatter(PercentFormatter())\n",
    "\n",
    "#specify axis colors\n",
    "ax.tick_params(axis='y', colors=color1)\n",
    "ax2.tick_params(axis='y', colors=color2)\n",
    "\n",
    "#display Pareto chart\n",
    "plt.show()"
   ]
  },
  {
   "cell_type": "markdown",
   "id": "6ef90f9a",
   "metadata": {},
   "source": [
    "## 3. premium mana yang paling diminati pelanggan?\n"
   ]
  },
  {
   "cell_type": "code",
   "execution_count": 32,
   "id": "16781d2b",
   "metadata": {},
   "outputs": [
    {
     "data": {
      "text/html": [
       "<div>\n",
       "<style scoped>\n",
       "    .dataframe tbody tr th:only-of-type {\n",
       "        vertical-align: middle;\n",
       "    }\n",
       "\n",
       "    .dataframe tbody tr th {\n",
       "        vertical-align: top;\n",
       "    }\n",
       "\n",
       "    .dataframe thead th {\n",
       "        text-align: right;\n",
       "    }\n",
       "</style>\n",
       "<table border=\"1\" class=\"dataframe\">\n",
       "  <thead>\n",
       "    <tr style=\"text-align: right;\">\n",
       "      <th></th>\n",
       "      <th>Annual_Premium</th>\n",
       "      <th>Response</th>\n",
       "      <th>response</th>\n",
       "    </tr>\n",
       "  </thead>\n",
       "  <tbody>\n",
       "    <tr>\n",
       "      <th>0</th>\n",
       "      <td>2630.0</td>\n",
       "      <td>0</td>\n",
       "      <td>56128</td>\n",
       "    </tr>\n",
       "    <tr>\n",
       "      <th>1</th>\n",
       "      <td>2630.0</td>\n",
       "      <td>1</td>\n",
       "      <td>8481</td>\n",
       "    </tr>\n",
       "  </tbody>\n",
       "</table>\n",
       "</div>"
      ],
      "text/plain": [
       "   Annual_Premium  Response  response\n",
       "0          2630.0         0     56128\n",
       "1          2630.0         1      8481"
      ]
     },
     "execution_count": 32,
     "metadata": {},
     "output_type": "execute_result"
    }
   ],
   "source": [
    "train['Annual_Premium'].value_counts()\n",
    "Premium = (train\n",
    "            .groupby(['Annual_Premium','Response'])\n",
    "            .agg(response=('Response','count'))\n",
    "            .reset_index()\n",
    "            .sort_values('response',ascending=False)\n",
    "            .head(2)\n",
    "            )\n",
    "\n",
    "Premium"
   ]
  },
  {
   "cell_type": "code",
   "execution_count": 33,
   "id": "643b0b46",
   "metadata": {},
   "outputs": [
    {
     "data": {
      "text/html": [
       "<div>\n",
       "<style scoped>\n",
       "    .dataframe tbody tr th:only-of-type {\n",
       "        vertical-align: middle;\n",
       "    }\n",
       "\n",
       "    .dataframe tbody tr th {\n",
       "        vertical-align: top;\n",
       "    }\n",
       "\n",
       "    .dataframe thead th {\n",
       "        text-align: right;\n",
       "    }\n",
       "</style>\n",
       "<table border=\"1\" class=\"dataframe\">\n",
       "  <thead>\n",
       "    <tr style=\"text-align: right;\">\n",
       "      <th></th>\n",
       "      <th>Gender</th>\n",
       "      <th>Age</th>\n",
       "      <th>Driving_License</th>\n",
       "      <th>Region_Code</th>\n",
       "      <th>Previously_Insured</th>\n",
       "      <th>Vehicle_Age</th>\n",
       "      <th>Vehicle_Damage</th>\n",
       "      <th>Annual_Premium</th>\n",
       "      <th>Policy_Sales_Channel</th>\n",
       "      <th>Vintage</th>\n",
       "      <th>Response</th>\n",
       "      <th>age_group</th>\n",
       "    </tr>\n",
       "  </thead>\n",
       "  <tbody>\n",
       "    <tr>\n",
       "      <th>5</th>\n",
       "      <td>Female</td>\n",
       "      <td>24</td>\n",
       "      <td>1</td>\n",
       "      <td>33.0</td>\n",
       "      <td>0</td>\n",
       "      <td>&lt; 1 Year</td>\n",
       "      <td>Yes</td>\n",
       "      <td>2630.0</td>\n",
       "      <td>160.0</td>\n",
       "      <td>176</td>\n",
       "      <td>0</td>\n",
       "      <td>20-35</td>\n",
       "    </tr>\n",
       "    <tr>\n",
       "      <th>15</th>\n",
       "      <td>Male</td>\n",
       "      <td>37</td>\n",
       "      <td>1</td>\n",
       "      <td>6.0</td>\n",
       "      <td>0</td>\n",
       "      <td>1-2 Year</td>\n",
       "      <td>Yes</td>\n",
       "      <td>2630.0</td>\n",
       "      <td>156.0</td>\n",
       "      <td>147</td>\n",
       "      <td>1</td>\n",
       "      <td>36-55</td>\n",
       "    </tr>\n",
       "    <tr>\n",
       "      <th>30</th>\n",
       "      <td>Female</td>\n",
       "      <td>26</td>\n",
       "      <td>1</td>\n",
       "      <td>8.0</td>\n",
       "      <td>0</td>\n",
       "      <td>&lt; 1 Year</td>\n",
       "      <td>No</td>\n",
       "      <td>2630.0</td>\n",
       "      <td>160.0</td>\n",
       "      <td>136</td>\n",
       "      <td>0</td>\n",
       "      <td>20-35</td>\n",
       "    </tr>\n",
       "    <tr>\n",
       "      <th>43</th>\n",
       "      <td>Female</td>\n",
       "      <td>38</td>\n",
       "      <td>1</td>\n",
       "      <td>35.0</td>\n",
       "      <td>1</td>\n",
       "      <td>1-2 Year</td>\n",
       "      <td>No</td>\n",
       "      <td>2630.0</td>\n",
       "      <td>152.0</td>\n",
       "      <td>153</td>\n",
       "      <td>0</td>\n",
       "      <td>36-55</td>\n",
       "    </tr>\n",
       "    <tr>\n",
       "      <th>58</th>\n",
       "      <td>Female</td>\n",
       "      <td>62</td>\n",
       "      <td>1</td>\n",
       "      <td>48.0</td>\n",
       "      <td>0</td>\n",
       "      <td>1-2 Year</td>\n",
       "      <td>Yes</td>\n",
       "      <td>2630.0</td>\n",
       "      <td>15.0</td>\n",
       "      <td>295</td>\n",
       "      <td>0</td>\n",
       "      <td>&gt;55</td>\n",
       "    </tr>\n",
       "  </tbody>\n",
       "</table>\n",
       "</div>"
      ],
      "text/plain": [
       "    Gender  Age  Driving_License  Region_Code  Previously_Insured Vehicle_Age  \\\n",
       "5   Female   24                1         33.0                   0    < 1 Year   \n",
       "15    Male   37                1          6.0                   0    1-2 Year   \n",
       "30  Female   26                1          8.0                   0    < 1 Year   \n",
       "43  Female   38                1         35.0                   1    1-2 Year   \n",
       "58  Female   62                1         48.0                   0    1-2 Year   \n",
       "\n",
       "   Vehicle_Damage  Annual_Premium  Policy_Sales_Channel  Vintage  Response  \\\n",
       "5             Yes          2630.0                 160.0      176         0   \n",
       "15            Yes          2630.0                 156.0      147         1   \n",
       "30             No          2630.0                 160.0      136         0   \n",
       "43             No          2630.0                 152.0      153         0   \n",
       "58            Yes          2630.0                  15.0      295         0   \n",
       "\n",
       "   age_group  \n",
       "5      20-35  \n",
       "15     36-55  \n",
       "30     20-35  \n",
       "43     36-55  \n",
       "58       >55  "
      ]
     },
     "execution_count": 33,
     "metadata": {},
     "output_type": "execute_result"
    }
   ],
   "source": [
    "a=train[train['Annual_Premium']==2630.0]\n",
    "a.head()"
   ]
  },
  {
   "cell_type": "code",
   "execution_count": 34,
   "id": "6ef67c4d",
   "metadata": {},
   "outputs": [
    {
     "data": {
      "image/png": "[encoded data removed]",
      "text/plain": [
       "<Figure size 864x432 with 1 Axes>"
      ]
     },
     "metadata": {
      "needs_background": "light"
     },
     "output_type": "display_data"
    }
   ],
   "source": [
    "plt.figure(figsize=(12,6))\n",
    "sns.countplot(a.Response)\n",
    "plt.show()"
   ]
  },
  {
   "cell_type": "markdown",
   "id": "21783dd5",
   "metadata": {},
   "source": [
    "## 4. 10 nomor Policy Sales Channel mana saja yang sangat disukai pelanggan dan effective untuk memberikan respon berlangganan?"
   ]
  },
  {
   "cell_type": "code",
   "execution_count": 35,
   "id": "187997ab",
   "metadata": {},
   "outputs": [
    {
     "data": {
      "text/html": [
       "<div>\n",
       "<style scoped>\n",
       "    .dataframe tbody tr th:only-of-type {\n",
       "        vertical-align: middle;\n",
       "    }\n",
       "\n",
       "    .dataframe tbody tr th {\n",
       "        vertical-align: top;\n",
       "    }\n",
       "\n",
       "    .dataframe thead th {\n",
       "        text-align: right;\n",
       "    }\n",
       "</style>\n",
       "<table border=\"1\" class=\"dataframe\">\n",
       "  <thead>\n",
       "    <tr style=\"text-align: right;\">\n",
       "      <th></th>\n",
       "      <th>Policy_Sales_Channel</th>\n",
       "      <th>response</th>\n",
       "    </tr>\n",
       "  </thead>\n",
       "  <tbody>\n",
       "    <tr>\n",
       "      <th>23</th>\n",
       "      <td>26.0</td>\n",
       "      <td>15881</td>\n",
       "    </tr>\n",
       "    <tr>\n",
       "      <th>92</th>\n",
       "      <td>124.0</td>\n",
       "      <td>13984</td>\n",
       "    </tr>\n",
       "    <tr>\n",
       "      <th>111</th>\n",
       "      <td>152.0</td>\n",
       "      <td>3858</td>\n",
       "    </tr>\n",
       "    <tr>\n",
       "      <th>115</th>\n",
       "      <td>156.0</td>\n",
       "      <td>2296</td>\n",
       "    </tr>\n",
       "    <tr>\n",
       "      <th>116</th>\n",
       "      <td>157.0</td>\n",
       "      <td>1792</td>\n",
       "    </tr>\n",
       "    <tr>\n",
       "      <th>90</th>\n",
       "      <td>122.0</td>\n",
       "      <td>1720</td>\n",
       "    </tr>\n",
       "    <tr>\n",
       "      <th>113</th>\n",
       "      <td>154.0</td>\n",
       "      <td>1474</td>\n",
       "    </tr>\n",
       "    <tr>\n",
       "      <th>120</th>\n",
       "      <td>163.0</td>\n",
       "      <td>880</td>\n",
       "    </tr>\n",
       "    <tr>\n",
       "      <th>119</th>\n",
       "      <td>160.0</td>\n",
       "      <td>475</td>\n",
       "    </tr>\n",
       "    <tr>\n",
       "      <th>114</th>\n",
       "      <td>155.0</td>\n",
       "      <td>395</td>\n",
       "    </tr>\n",
       "  </tbody>\n",
       "</table>\n",
       "</div>"
      ],
      "text/plain": [
       "     Policy_Sales_Channel  response\n",
       "23                   26.0     15881\n",
       "92                  124.0     13984\n",
       "111                 152.0      3858\n",
       "115                 156.0      2296\n",
       "116                 157.0      1792\n",
       "90                  122.0      1720\n",
       "113                 154.0      1474\n",
       "120                 163.0       880\n",
       "119                 160.0       475\n",
       "114                 155.0       395"
      ]
     },
     "execution_count": 35,
     "metadata": {},
     "output_type": "execute_result"
    }
   ],
   "source": [
    "b=train[train['Response']==1]\n",
    "b.head()\n",
    "Channel2 = (b\n",
    "            .groupby('Policy_Sales_Channel')\n",
    "            .agg(response=('Response','count'))\n",
    "            .reset_index()\n",
    "            .sort_values('response',ascending=False)\n",
    "            .head(10)\n",
    "            )\n",
    "Channel2"
   ]
  },
  {
   "cell_type": "code",
   "execution_count": 36,
   "id": "76797197",
   "metadata": {},
   "outputs": [
    {
     "data": {
      "text/plain": [
       "11.226499317298604"
      ]
     },
     "execution_count": 36,
     "metadata": {},
     "output_type": "execute_result"
    }
   ],
   "source": [
    "Channel2['response'].sum()/train['Response'].count()*100"
   ]
  },
  {
   "cell_type": "code",
   "execution_count": 37,
   "id": "bec0cf18",
   "metadata": {},
   "outputs": [
    {
     "data": {
      "text/html": [
       "<div>\n",
       "<style scoped>\n",
       "    .dataframe tbody tr th:only-of-type {\n",
       "        vertical-align: middle;\n",
       "    }\n",
       "\n",
       "    .dataframe tbody tr th {\n",
       "        vertical-align: top;\n",
       "    }\n",
       "\n",
       "    .dataframe thead th {\n",
       "        text-align: right;\n",
       "    }\n",
       "</style>\n",
       "<table border=\"1\" class=\"dataframe\">\n",
       "  <thead>\n",
       "    <tr style=\"text-align: right;\">\n",
       "      <th></th>\n",
       "      <th>Policy_Sales_Channel</th>\n",
       "      <th>response</th>\n",
       "    </tr>\n",
       "  </thead>\n",
       "  <tbody>\n",
       "    <tr>\n",
       "      <th>145</th>\n",
       "      <td>152.0</td>\n",
       "      <td>134680</td>\n",
       "    </tr>\n",
       "    <tr>\n",
       "      <th>24</th>\n",
       "      <td>26.0</td>\n",
       "      <td>79646</td>\n",
       "    </tr>\n",
       "    <tr>\n",
       "      <th>119</th>\n",
       "      <td>124.0</td>\n",
       "      <td>73928</td>\n",
       "    </tr>\n",
       "    <tr>\n",
       "      <th>153</th>\n",
       "      <td>160.0</td>\n",
       "      <td>21769</td>\n",
       "    </tr>\n",
       "    <tr>\n",
       "      <th>149</th>\n",
       "      <td>156.0</td>\n",
       "      <td>10642</td>\n",
       "    </tr>\n",
       "    <tr>\n",
       "      <th>117</th>\n",
       "      <td>122.0</td>\n",
       "      <td>9929</td>\n",
       "    </tr>\n",
       "    <tr>\n",
       "      <th>150</th>\n",
       "      <td>157.0</td>\n",
       "      <td>6677</td>\n",
       "    </tr>\n",
       "    <tr>\n",
       "      <th>147</th>\n",
       "      <td>154.0</td>\n",
       "      <td>5992</td>\n",
       "    </tr>\n",
       "    <tr>\n",
       "      <th>144</th>\n",
       "      <td>151.0</td>\n",
       "      <td>3884</td>\n",
       "    </tr>\n",
       "    <tr>\n",
       "      <th>154</th>\n",
       "      <td>163.0</td>\n",
       "      <td>2893</td>\n",
       "    </tr>\n",
       "  </tbody>\n",
       "</table>\n",
       "</div>"
      ],
      "text/plain": [
       "     Policy_Sales_Channel  response\n",
       "145                 152.0    134680\n",
       "24                   26.0     79646\n",
       "119                 124.0     73928\n",
       "153                 160.0     21769\n",
       "149                 156.0     10642\n",
       "117                 122.0      9929\n",
       "150                 157.0      6677\n",
       "147                 154.0      5992\n",
       "144                 151.0      3884\n",
       "154                 163.0      2893"
      ]
     },
     "execution_count": 37,
     "metadata": {},
     "output_type": "execute_result"
    }
   ],
   "source": [
    "\n",
    "Channel = (train\n",
    "            .groupby('Policy_Sales_Channel')\n",
    "            .agg(response=('Response','count'))\n",
    "            .reset_index()\n",
    "            .sort_values('response',ascending=False)\n",
    "            .head(10)\n",
    "            )\n",
    "Channel\n"
   ]
  },
  {
   "cell_type": "code",
   "execution_count": 38,
   "id": "f7391cf3",
   "metadata": {},
   "outputs": [
    {
     "data": {
      "text/plain": [
       "91.91261422119526"
      ]
     },
     "execution_count": 38,
     "metadata": {},
     "output_type": "execute_result"
    }
   ],
   "source": [
    "Channel['response'].sum()/train['Response'].count()*100"
   ]
  },
  {
   "cell_type": "markdown",
   "id": "8b1b75ac",
   "metadata": {},
   "source": [
    "## BUSINESS RECOMENDATION"
   ]
  },
  {
   "cell_type": "markdown",
   "id": "7272506f",
   "metadata": {},
   "source": [
    "- dari data dapat dilihat bahwa pelanggan yang belum memiliki asuransi kendaraan lebih tertarik untuk mendapatkan asuransi kendaran dari perusahaan sehingg kita dapat lebih menggiatkan atau menargetkan promosi pada pelanggan yang belum memiliki asuransi kendaraan. jika kita lebih menargetkan kesana maka ada sekitar  206336 pelanggan yanng dapat ditarik dan ini kan berdampak besar pada perusahaan.\n",
    "- karna banyaknya pelanggan yang memiliki umur kendaraan dibawah 2 tahun maka kita dapat lebih menggiatkan promosi pada kendraan dengan pemakaian 2 tahun kebawah dengan menampilkan data riwayat tabrakan per umur mobil atau dapat bekerjasama dengan showroom mobil untuk menyadarkan pentig nya asuransi mobil pada pelanggan yang baru membeli mobil\n",
    "- kita dapat memfokuskan kepada 10 kode region tempat tinggal coustumer karna dari 10 kode region sudah mencakup 64 % dari pelanggan\n",
    "- Sebagian besar pelanggan tertarik untuk membayar Premi Tahunan 2630 namun hanya 22% yang memberikan respon berlangganan dengan asuransi kendaraan dan sisanya 78% tidak memberikan respon berlangganan. \n",
    "- kita dapat memfokuskan promosi pada 10 `Policy_Sales_Channel` yang disukai pelanggan yang dapat menjangkau 91.9 % pelanggan namun baru memberikan 11.2% respon berlangganan "
   ]
  },
  {
   "cell_type": "code",
   "execution_count": 39,
   "id": "793a3d32",
   "metadata": {},
   "outputs": [
    {
     "data": {
      "text/html": [
       "<div>\n",
       "<style scoped>\n",
       "    .dataframe tbody tr th:only-of-type {\n",
       "        vertical-align: middle;\n",
       "    }\n",
       "\n",
       "    .dataframe tbody tr th {\n",
       "        vertical-align: top;\n",
       "    }\n",
       "\n",
       "    .dataframe thead th {\n",
       "        text-align: right;\n",
       "    }\n",
       "</style>\n",
       "<table border=\"1\" class=\"dataframe\">\n",
       "  <thead>\n",
       "    <tr style=\"text-align: right;\">\n",
       "      <th></th>\n",
       "      <th>Gender</th>\n",
       "      <th>Age</th>\n",
       "      <th>Driving_License</th>\n",
       "      <th>Region_Code</th>\n",
       "      <th>Previously_Insured</th>\n",
       "      <th>Vehicle_Age</th>\n",
       "      <th>Vehicle_Damage</th>\n",
       "      <th>Annual_Premium</th>\n",
       "      <th>Policy_Sales_Channel</th>\n",
       "      <th>Vintage</th>\n",
       "      <th>Response</th>\n",
       "      <th>age_group</th>\n",
       "    </tr>\n",
       "  </thead>\n",
       "  <tbody>\n",
       "    <tr>\n",
       "      <th>103103</th>\n",
       "      <td>Female</td>\n",
       "      <td>21</td>\n",
       "      <td>1</td>\n",
       "      <td>35.0</td>\n",
       "      <td>1</td>\n",
       "      <td>&lt; 1 Year</td>\n",
       "      <td>No</td>\n",
       "      <td>25739.0</td>\n",
       "      <td>159.0</td>\n",
       "      <td>82</td>\n",
       "      <td>0</td>\n",
       "      <td>20-35</td>\n",
       "    </tr>\n",
       "    <tr>\n",
       "      <th>294150</th>\n",
       "      <td>Male</td>\n",
       "      <td>43</td>\n",
       "      <td>1</td>\n",
       "      <td>50.0</td>\n",
       "      <td>0</td>\n",
       "      <td>1-2 Year</td>\n",
       "      <td>Yes</td>\n",
       "      <td>35649.0</td>\n",
       "      <td>26.0</td>\n",
       "      <td>18</td>\n",
       "      <td>0</td>\n",
       "      <td>36-55</td>\n",
       "    </tr>\n",
       "    <tr>\n",
       "      <th>137897</th>\n",
       "      <td>Male</td>\n",
       "      <td>20</td>\n",
       "      <td>1</td>\n",
       "      <td>43.0</td>\n",
       "      <td>1</td>\n",
       "      <td>&lt; 1 Year</td>\n",
       "      <td>No</td>\n",
       "      <td>2630.0</td>\n",
       "      <td>160.0</td>\n",
       "      <td>65</td>\n",
       "      <td>0</td>\n",
       "      <td>20-35</td>\n",
       "    </tr>\n",
       "    <tr>\n",
       "      <th>120962</th>\n",
       "      <td>Male</td>\n",
       "      <td>54</td>\n",
       "      <td>1</td>\n",
       "      <td>28.0</td>\n",
       "      <td>0</td>\n",
       "      <td>&gt; 2 Years</td>\n",
       "      <td>Yes</td>\n",
       "      <td>67347.0</td>\n",
       "      <td>26.0</td>\n",
       "      <td>214</td>\n",
       "      <td>0</td>\n",
       "      <td>36-55</td>\n",
       "    </tr>\n",
       "    <tr>\n",
       "      <th>190724</th>\n",
       "      <td>Male</td>\n",
       "      <td>58</td>\n",
       "      <td>1</td>\n",
       "      <td>37.0</td>\n",
       "      <td>0</td>\n",
       "      <td>1-2 Year</td>\n",
       "      <td>Yes</td>\n",
       "      <td>52473.0</td>\n",
       "      <td>26.0</td>\n",
       "      <td>270</td>\n",
       "      <td>0</td>\n",
       "      <td>&gt;55</td>\n",
       "    </tr>\n",
       "  </tbody>\n",
       "</table>\n",
       "</div>"
      ],
      "text/plain": [
       "        Gender  Age  Driving_License  Region_Code  Previously_Insured  \\\n",
       "103103  Female   21                1         35.0                   1   \n",
       "294150    Male   43                1         50.0                   0   \n",
       "137897    Male   20                1         43.0                   1   \n",
       "120962    Male   54                1         28.0                   0   \n",
       "190724    Male   58                1         37.0                   0   \n",
       "\n",
       "       Vehicle_Age Vehicle_Damage  Annual_Premium  Policy_Sales_Channel  \\\n",
       "103103    < 1 Year             No         25739.0                 159.0   \n",
       "294150    1-2 Year            Yes         35649.0                  26.0   \n",
       "137897    < 1 Year             No          2630.0                 160.0   \n",
       "120962   > 2 Years            Yes         67347.0                  26.0   \n",
       "190724    1-2 Year            Yes         52473.0                  26.0   \n",
       "\n",
       "        Vintage  Response age_group  \n",
       "103103       82         0     20-35  \n",
       "294150       18         0     36-55  \n",
       "137897       65         0     20-35  \n",
       "120962      214         0     36-55  \n",
       "190724      270         0       >55  "
      ]
     },
     "execution_count": 39,
     "metadata": {},
     "output_type": "execute_result"
    }
   ],
   "source": [
    "train.sample(5)"
   ]
  },
  {
   "cell_type": "markdown",
   "id": "1935ffa2",
   "metadata": {},
   "source": [
    "## Handle outlier "
   ]
  },
  {
   "cell_type": "code",
   "execution_count": 40,
   "id": "de7786ea",
   "metadata": {},
   "outputs": [],
   "source": [
    "Q1 = train['Annual_Premium'].quantile(0.25)\n",
    "Q3 = train['Annual_Premium'].quantile(0.75)\n",
    "IQR = Q3 - Q1\n",
    "train = train[~((train['Annual_Premium'] < (Q1 - 1.5 * IQR)) |(train['Annual_Premium'] > (Q3 + 1.5 * IQR)))]\n"
   ]
  },
  {
   "cell_type": "code",
   "execution_count": 41,
   "id": "6201f954",
   "metadata": {},
   "outputs": [
    {
     "name": "stdout",
     "output_type": "stream",
     "text": [
      "<class 'pandas.core.frame.DataFrame'>\n",
      "Int64Index: 370509 entries, 0 to 381108\n",
      "Data columns (total 12 columns):\n",
      " #   Column                Non-Null Count   Dtype  \n",
      "---  ------                --------------   -----  \n",
      " 0   Gender                370509 non-null  object \n",
      " 1   Age                   370509 non-null  int64  \n",
      " 2   Driving_License       370509 non-null  int64  \n",
      " 3   Region_Code           370509 non-null  float64\n",
      " 4   Previously_Insured    370509 non-null  int64  \n",
      " 5   Vehicle_Age           370509 non-null  object \n",
      " 6   Vehicle_Damage        370509 non-null  object \n",
      " 7   Annual_Premium        370509 non-null  float64\n",
      " 8   Policy_Sales_Channel  370509 non-null  float64\n",
      " 9   Vintage               370509 non-null  int64  \n",
      " 10  Response              370509 non-null  int64  \n",
      " 11  age_group             370509 non-null  object \n",
      "dtypes: float64(3), int64(5), object(4)\n",
      "memory usage: 36.7+ MB\n"
     ]
    }
   ],
   "source": [
    "train.info()"
   ]
  },
  {
   "cell_type": "markdown",
   "id": "4bf0f4d8",
   "metadata": {},
   "source": [
    "## Melakukan one hot encoding"
   ]
  },
  {
   "cell_type": "code",
   "execution_count": 42,
   "id": "356084de",
   "metadata": {},
   "outputs": [
    {
     "data": {
      "text/html": [
       "<div>\n",
       "<style scoped>\n",
       "    .dataframe tbody tr th:only-of-type {\n",
       "        vertical-align: middle;\n",
       "    }\n",
       "\n",
       "    .dataframe tbody tr th {\n",
       "        vertical-align: top;\n",
       "    }\n",
       "\n",
       "    .dataframe thead th {\n",
       "        text-align: right;\n",
       "    }\n",
       "</style>\n",
       "<table border=\"1\" class=\"dataframe\">\n",
       "  <thead>\n",
       "    <tr style=\"text-align: right;\">\n",
       "      <th></th>\n",
       "      <th>Gender</th>\n",
       "      <th>Age</th>\n",
       "      <th>Driving_License</th>\n",
       "      <th>Region_Code</th>\n",
       "      <th>Previously_Insured</th>\n",
       "      <th>Vehicle_Age</th>\n",
       "      <th>Vehicle_Damage</th>\n",
       "      <th>Annual_Premium</th>\n",
       "      <th>Policy_Sales_Channel</th>\n",
       "      <th>Vintage</th>\n",
       "      <th>Response</th>\n",
       "      <th>age_group</th>\n",
       "    </tr>\n",
       "  </thead>\n",
       "  <tbody>\n",
       "    <tr>\n",
       "      <th>0</th>\n",
       "      <td>Male</td>\n",
       "      <td>44</td>\n",
       "      <td>1</td>\n",
       "      <td>28.0</td>\n",
       "      <td>0</td>\n",
       "      <td>&gt; 2 Years</td>\n",
       "      <td>Yes</td>\n",
       "      <td>40454.0</td>\n",
       "      <td>26.0</td>\n",
       "      <td>217</td>\n",
       "      <td>1</td>\n",
       "      <td>2</td>\n",
       "    </tr>\n",
       "    <tr>\n",
       "      <th>1</th>\n",
       "      <td>Male</td>\n",
       "      <td>76</td>\n",
       "      <td>1</td>\n",
       "      <td>3.0</td>\n",
       "      <td>0</td>\n",
       "      <td>1-2 Year</td>\n",
       "      <td>No</td>\n",
       "      <td>33536.0</td>\n",
       "      <td>26.0</td>\n",
       "      <td>183</td>\n",
       "      <td>0</td>\n",
       "      <td>3</td>\n",
       "    </tr>\n",
       "    <tr>\n",
       "      <th>2</th>\n",
       "      <td>Male</td>\n",
       "      <td>47</td>\n",
       "      <td>1</td>\n",
       "      <td>28.0</td>\n",
       "      <td>0</td>\n",
       "      <td>&gt; 2 Years</td>\n",
       "      <td>Yes</td>\n",
       "      <td>38294.0</td>\n",
       "      <td>26.0</td>\n",
       "      <td>27</td>\n",
       "      <td>1</td>\n",
       "      <td>2</td>\n",
       "    </tr>\n",
       "    <tr>\n",
       "      <th>3</th>\n",
       "      <td>Male</td>\n",
       "      <td>21</td>\n",
       "      <td>1</td>\n",
       "      <td>11.0</td>\n",
       "      <td>1</td>\n",
       "      <td>&lt; 1 Year</td>\n",
       "      <td>No</td>\n",
       "      <td>28619.0</td>\n",
       "      <td>152.0</td>\n",
       "      <td>203</td>\n",
       "      <td>0</td>\n",
       "      <td>1</td>\n",
       "    </tr>\n",
       "    <tr>\n",
       "      <th>4</th>\n",
       "      <td>Female</td>\n",
       "      <td>29</td>\n",
       "      <td>1</td>\n",
       "      <td>41.0</td>\n",
       "      <td>1</td>\n",
       "      <td>&lt; 1 Year</td>\n",
       "      <td>No</td>\n",
       "      <td>27496.0</td>\n",
       "      <td>152.0</td>\n",
       "      <td>39</td>\n",
       "      <td>0</td>\n",
       "      <td>1</td>\n",
       "    </tr>\n",
       "  </tbody>\n",
       "</table>\n",
       "</div>"
      ],
      "text/plain": [
       "   Gender  Age  Driving_License  Region_Code  Previously_Insured Vehicle_Age  \\\n",
       "0    Male   44                1         28.0                   0   > 2 Years   \n",
       "1    Male   76                1          3.0                   0    1-2 Year   \n",
       "2    Male   47                1         28.0                   0   > 2 Years   \n",
       "3    Male   21                1         11.0                   1    < 1 Year   \n",
       "4  Female   29                1         41.0                   1    < 1 Year   \n",
       "\n",
       "  Vehicle_Damage  Annual_Premium  Policy_Sales_Channel  Vintage  Response  \\\n",
       "0            Yes         40454.0                  26.0      217         1   \n",
       "1             No         33536.0                  26.0      183         0   \n",
       "2            Yes         38294.0                  26.0       27         1   \n",
       "3             No         28619.0                 152.0      203         0   \n",
       "4             No         27496.0                 152.0       39         0   \n",
       "\n",
       "  age_group  \n",
       "0         2  \n",
       "1         3  \n",
       "2         2  \n",
       "3         1  \n",
       "4         1  "
      ]
     },
     "execution_count": 42,
     "metadata": {},
     "output_type": "execute_result"
    }
   ],
   "source": [
    "train['age_group'] = train['age_group'].replace(['>55'], '3')\n",
    "train['age_group'] = train['age_group'].replace(['36-55'], '2')\n",
    "train['age_group'] = train['age_group'].replace(['20-35'], '1')\n",
    "train.head()\n",
    "# merubah nilai data pada kolom depents dari 3+ menjadi 3"
   ]
  },
  {
   "cell_type": "code",
   "execution_count": 43,
   "id": "ad89d2e6",
   "metadata": {},
   "outputs": [
    {
     "data": {
      "text/html": [
       "<div>\n",
       "<style scoped>\n",
       "    .dataframe tbody tr th:only-of-type {\n",
       "        vertical-align: middle;\n",
       "    }\n",
       "\n",
       "    .dataframe tbody tr th {\n",
       "        vertical-align: top;\n",
       "    }\n",
       "\n",
       "    .dataframe thead th {\n",
       "        text-align: right;\n",
       "    }\n",
       "</style>\n",
       "<table border=\"1\" class=\"dataframe\">\n",
       "  <thead>\n",
       "    <tr style=\"text-align: right;\">\n",
       "      <th></th>\n",
       "      <th>Gender</th>\n",
       "      <th>Age</th>\n",
       "      <th>Driving_License</th>\n",
       "      <th>Region_Code</th>\n",
       "      <th>Previously_Insured</th>\n",
       "      <th>Vehicle_Age</th>\n",
       "      <th>Vehicle_Damage</th>\n",
       "      <th>Annual_Premium</th>\n",
       "      <th>Policy_Sales_Channel</th>\n",
       "      <th>Vintage</th>\n",
       "      <th>Response</th>\n",
       "      <th>age_group</th>\n",
       "    </tr>\n",
       "  </thead>\n",
       "  <tbody>\n",
       "    <tr>\n",
       "      <th>0</th>\n",
       "      <td>1</td>\n",
       "      <td>44</td>\n",
       "      <td>1</td>\n",
       "      <td>28.0</td>\n",
       "      <td>0</td>\n",
       "      <td>&gt; 2 Years</td>\n",
       "      <td>Yes</td>\n",
       "      <td>40454.0</td>\n",
       "      <td>26.0</td>\n",
       "      <td>217</td>\n",
       "      <td>1</td>\n",
       "      <td>2</td>\n",
       "    </tr>\n",
       "    <tr>\n",
       "      <th>1</th>\n",
       "      <td>1</td>\n",
       "      <td>76</td>\n",
       "      <td>1</td>\n",
       "      <td>3.0</td>\n",
       "      <td>0</td>\n",
       "      <td>1-2 Year</td>\n",
       "      <td>No</td>\n",
       "      <td>33536.0</td>\n",
       "      <td>26.0</td>\n",
       "      <td>183</td>\n",
       "      <td>0</td>\n",
       "      <td>3</td>\n",
       "    </tr>\n",
       "    <tr>\n",
       "      <th>2</th>\n",
       "      <td>1</td>\n",
       "      <td>47</td>\n",
       "      <td>1</td>\n",
       "      <td>28.0</td>\n",
       "      <td>0</td>\n",
       "      <td>&gt; 2 Years</td>\n",
       "      <td>Yes</td>\n",
       "      <td>38294.0</td>\n",
       "      <td>26.0</td>\n",
       "      <td>27</td>\n",
       "      <td>1</td>\n",
       "      <td>2</td>\n",
       "    </tr>\n",
       "    <tr>\n",
       "      <th>3</th>\n",
       "      <td>1</td>\n",
       "      <td>21</td>\n",
       "      <td>1</td>\n",
       "      <td>11.0</td>\n",
       "      <td>1</td>\n",
       "      <td>&lt; 1 Year</td>\n",
       "      <td>No</td>\n",
       "      <td>28619.0</td>\n",
       "      <td>152.0</td>\n",
       "      <td>203</td>\n",
       "      <td>0</td>\n",
       "      <td>1</td>\n",
       "    </tr>\n",
       "    <tr>\n",
       "      <th>4</th>\n",
       "      <td>0</td>\n",
       "      <td>29</td>\n",
       "      <td>1</td>\n",
       "      <td>41.0</td>\n",
       "      <td>1</td>\n",
       "      <td>&lt; 1 Year</td>\n",
       "      <td>No</td>\n",
       "      <td>27496.0</td>\n",
       "      <td>152.0</td>\n",
       "      <td>39</td>\n",
       "      <td>0</td>\n",
       "      <td>1</td>\n",
       "    </tr>\n",
       "  </tbody>\n",
       "</table>\n",
       "</div>"
      ],
      "text/plain": [
       "   Gender  Age  Driving_License  Region_Code  Previously_Insured Vehicle_Age  \\\n",
       "0       1   44                1         28.0                   0   > 2 Years   \n",
       "1       1   76                1          3.0                   0    1-2 Year   \n",
       "2       1   47                1         28.0                   0   > 2 Years   \n",
       "3       1   21                1         11.0                   1    < 1 Year   \n",
       "4       0   29                1         41.0                   1    < 1 Year   \n",
       "\n",
       "  Vehicle_Damage  Annual_Premium  Policy_Sales_Channel  Vintage  Response  \\\n",
       "0            Yes         40454.0                  26.0      217         1   \n",
       "1             No         33536.0                  26.0      183         0   \n",
       "2            Yes         38294.0                  26.0       27         1   \n",
       "3             No         28619.0                 152.0      203         0   \n",
       "4             No         27496.0                 152.0       39         0   \n",
       "\n",
       "  age_group  \n",
       "0         2  \n",
       "1         3  \n",
       "2         2  \n",
       "3         1  \n",
       "4         1  "
      ]
     },
     "execution_count": 43,
     "metadata": {},
     "output_type": "execute_result"
    }
   ],
   "source": [
    "\n",
    "train['Gender'] = train['Gender'].replace(\"Female\", 0).replace(\"Male\", 1)\n",
    "train.head()"
   ]
  },
  {
   "cell_type": "code",
   "execution_count": 44,
   "id": "8c5398fc",
   "metadata": {},
   "outputs": [
    {
     "data": {
      "text/html": [
       "<div>\n",
       "<style scoped>\n",
       "    .dataframe tbody tr th:only-of-type {\n",
       "        vertical-align: middle;\n",
       "    }\n",
       "\n",
       "    .dataframe tbody tr th {\n",
       "        vertical-align: top;\n",
       "    }\n",
       "\n",
       "    .dataframe thead th {\n",
       "        text-align: right;\n",
       "    }\n",
       "</style>\n",
       "<table border=\"1\" class=\"dataframe\">\n",
       "  <thead>\n",
       "    <tr style=\"text-align: right;\">\n",
       "      <th></th>\n",
       "      <th>Gender</th>\n",
       "      <th>Age</th>\n",
       "      <th>Driving_License</th>\n",
       "      <th>Region_Code</th>\n",
       "      <th>Previously_Insured</th>\n",
       "      <th>Vehicle_Age</th>\n",
       "      <th>Vehicle_Damage</th>\n",
       "      <th>Annual_Premium</th>\n",
       "      <th>Policy_Sales_Channel</th>\n",
       "      <th>Vintage</th>\n",
       "      <th>Response</th>\n",
       "      <th>age_group</th>\n",
       "    </tr>\n",
       "  </thead>\n",
       "  <tbody>\n",
       "    <tr>\n",
       "      <th>0</th>\n",
       "      <td>1</td>\n",
       "      <td>44</td>\n",
       "      <td>1</td>\n",
       "      <td>28.0</td>\n",
       "      <td>0</td>\n",
       "      <td>3</td>\n",
       "      <td>Yes</td>\n",
       "      <td>40454.0</td>\n",
       "      <td>26.0</td>\n",
       "      <td>217</td>\n",
       "      <td>1</td>\n",
       "      <td>2</td>\n",
       "    </tr>\n",
       "    <tr>\n",
       "      <th>1</th>\n",
       "      <td>1</td>\n",
       "      <td>76</td>\n",
       "      <td>1</td>\n",
       "      <td>3.0</td>\n",
       "      <td>0</td>\n",
       "      <td>2</td>\n",
       "      <td>No</td>\n",
       "      <td>33536.0</td>\n",
       "      <td>26.0</td>\n",
       "      <td>183</td>\n",
       "      <td>0</td>\n",
       "      <td>3</td>\n",
       "    </tr>\n",
       "    <tr>\n",
       "      <th>2</th>\n",
       "      <td>1</td>\n",
       "      <td>47</td>\n",
       "      <td>1</td>\n",
       "      <td>28.0</td>\n",
       "      <td>0</td>\n",
       "      <td>3</td>\n",
       "      <td>Yes</td>\n",
       "      <td>38294.0</td>\n",
       "      <td>26.0</td>\n",
       "      <td>27</td>\n",
       "      <td>1</td>\n",
       "      <td>2</td>\n",
       "    </tr>\n",
       "    <tr>\n",
       "      <th>3</th>\n",
       "      <td>1</td>\n",
       "      <td>21</td>\n",
       "      <td>1</td>\n",
       "      <td>11.0</td>\n",
       "      <td>1</td>\n",
       "      <td>1</td>\n",
       "      <td>No</td>\n",
       "      <td>28619.0</td>\n",
       "      <td>152.0</td>\n",
       "      <td>203</td>\n",
       "      <td>0</td>\n",
       "      <td>1</td>\n",
       "    </tr>\n",
       "    <tr>\n",
       "      <th>4</th>\n",
       "      <td>0</td>\n",
       "      <td>29</td>\n",
       "      <td>1</td>\n",
       "      <td>41.0</td>\n",
       "      <td>1</td>\n",
       "      <td>1</td>\n",
       "      <td>No</td>\n",
       "      <td>27496.0</td>\n",
       "      <td>152.0</td>\n",
       "      <td>39</td>\n",
       "      <td>0</td>\n",
       "      <td>1</td>\n",
       "    </tr>\n",
       "  </tbody>\n",
       "</table>\n",
       "</div>"
      ],
      "text/plain": [
       "   Gender  Age  Driving_License  Region_Code  Previously_Insured Vehicle_Age  \\\n",
       "0       1   44                1         28.0                   0           3   \n",
       "1       1   76                1          3.0                   0           2   \n",
       "2       1   47                1         28.0                   0           3   \n",
       "3       1   21                1         11.0                   1           1   \n",
       "4       0   29                1         41.0                   1           1   \n",
       "\n",
       "  Vehicle_Damage  Annual_Premium  Policy_Sales_Channel  Vintage  Response  \\\n",
       "0            Yes         40454.0                  26.0      217         1   \n",
       "1             No         33536.0                  26.0      183         0   \n",
       "2            Yes         38294.0                  26.0       27         1   \n",
       "3             No         28619.0                 152.0      203         0   \n",
       "4             No         27496.0                 152.0       39         0   \n",
       "\n",
       "  age_group  \n",
       "0         2  \n",
       "1         3  \n",
       "2         2  \n",
       "3         1  \n",
       "4         1  "
      ]
     },
     "execution_count": 44,
     "metadata": {},
     "output_type": "execute_result"
    }
   ],
   "source": [
    "train['Vehicle_Age'] = train['Vehicle_Age'].replace(['> 2 Years'], '3')\n",
    "train['Vehicle_Age'] = train['Vehicle_Age'].replace(['1-2 Year'], '2')\n",
    "train['Vehicle_Age'] = train['Vehicle_Age'].replace(['< 1 Year'], '1')\n",
    "train.head()\n",
    "# merubah nilai data pada kolom depents dari 3+ menjadi 3"
   ]
  },
  {
   "cell_type": "code",
   "execution_count": 45,
   "id": "d1ad0b7b",
   "metadata": {},
   "outputs": [
    {
     "data": {
      "text/html": [
       "<div>\n",
       "<style scoped>\n",
       "    .dataframe tbody tr th:only-of-type {\n",
       "        vertical-align: middle;\n",
       "    }\n",
       "\n",
       "    .dataframe tbody tr th {\n",
       "        vertical-align: top;\n",
       "    }\n",
       "\n",
       "    .dataframe thead th {\n",
       "        text-align: right;\n",
       "    }\n",
       "</style>\n",
       "<table border=\"1\" class=\"dataframe\">\n",
       "  <thead>\n",
       "    <tr style=\"text-align: right;\">\n",
       "      <th></th>\n",
       "      <th>Gender</th>\n",
       "      <th>Age</th>\n",
       "      <th>Driving_License</th>\n",
       "      <th>Region_Code</th>\n",
       "      <th>Previously_Insured</th>\n",
       "      <th>Vehicle_Age</th>\n",
       "      <th>Vehicle_Damage</th>\n",
       "      <th>Annual_Premium</th>\n",
       "      <th>Policy_Sales_Channel</th>\n",
       "      <th>Vintage</th>\n",
       "      <th>Response</th>\n",
       "      <th>age_group</th>\n",
       "    </tr>\n",
       "  </thead>\n",
       "  <tbody>\n",
       "    <tr>\n",
       "      <th>0</th>\n",
       "      <td>1</td>\n",
       "      <td>44</td>\n",
       "      <td>1</td>\n",
       "      <td>28.0</td>\n",
       "      <td>0</td>\n",
       "      <td>3</td>\n",
       "      <td>1</td>\n",
       "      <td>40454.0</td>\n",
       "      <td>26.0</td>\n",
       "      <td>217</td>\n",
       "      <td>1</td>\n",
       "      <td>2</td>\n",
       "    </tr>\n",
       "    <tr>\n",
       "      <th>1</th>\n",
       "      <td>1</td>\n",
       "      <td>76</td>\n",
       "      <td>1</td>\n",
       "      <td>3.0</td>\n",
       "      <td>0</td>\n",
       "      <td>2</td>\n",
       "      <td>0</td>\n",
       "      <td>33536.0</td>\n",
       "      <td>26.0</td>\n",
       "      <td>183</td>\n",
       "      <td>0</td>\n",
       "      <td>3</td>\n",
       "    </tr>\n",
       "    <tr>\n",
       "      <th>2</th>\n",
       "      <td>1</td>\n",
       "      <td>47</td>\n",
       "      <td>1</td>\n",
       "      <td>28.0</td>\n",
       "      <td>0</td>\n",
       "      <td>3</td>\n",
       "      <td>1</td>\n",
       "      <td>38294.0</td>\n",
       "      <td>26.0</td>\n",
       "      <td>27</td>\n",
       "      <td>1</td>\n",
       "      <td>2</td>\n",
       "    </tr>\n",
       "    <tr>\n",
       "      <th>3</th>\n",
       "      <td>1</td>\n",
       "      <td>21</td>\n",
       "      <td>1</td>\n",
       "      <td>11.0</td>\n",
       "      <td>1</td>\n",
       "      <td>1</td>\n",
       "      <td>0</td>\n",
       "      <td>28619.0</td>\n",
       "      <td>152.0</td>\n",
       "      <td>203</td>\n",
       "      <td>0</td>\n",
       "      <td>1</td>\n",
       "    </tr>\n",
       "    <tr>\n",
       "      <th>4</th>\n",
       "      <td>0</td>\n",
       "      <td>29</td>\n",
       "      <td>1</td>\n",
       "      <td>41.0</td>\n",
       "      <td>1</td>\n",
       "      <td>1</td>\n",
       "      <td>0</td>\n",
       "      <td>27496.0</td>\n",
       "      <td>152.0</td>\n",
       "      <td>39</td>\n",
       "      <td>0</td>\n",
       "      <td>1</td>\n",
       "    </tr>\n",
       "  </tbody>\n",
       "</table>\n",
       "</div>"
      ],
      "text/plain": [
       "   Gender  Age  Driving_License  Region_Code  Previously_Insured Vehicle_Age  \\\n",
       "0       1   44                1         28.0                   0           3   \n",
       "1       1   76                1          3.0                   0           2   \n",
       "2       1   47                1         28.0                   0           3   \n",
       "3       1   21                1         11.0                   1           1   \n",
       "4       0   29                1         41.0                   1           1   \n",
       "\n",
       "   Vehicle_Damage  Annual_Premium  Policy_Sales_Channel  Vintage  Response  \\\n",
       "0               1         40454.0                  26.0      217         1   \n",
       "1               0         33536.0                  26.0      183         0   \n",
       "2               1         38294.0                  26.0       27         1   \n",
       "3               0         28619.0                 152.0      203         0   \n",
       "4               0         27496.0                 152.0       39         0   \n",
       "\n",
       "  age_group  \n",
       "0         2  \n",
       "1         3  \n",
       "2         2  \n",
       "3         1  \n",
       "4         1  "
      ]
     },
     "execution_count": 45,
     "metadata": {},
     "output_type": "execute_result"
    }
   ],
   "source": [
    "\n",
    "train['Vehicle_Damage'] = train['Vehicle_Damage'].replace(\"No\", 0).replace(\"Yes\", 1)\n",
    "train.head()\n",
    "#merubah nilai data gender female menjadi 0 dan male menjadi 1"
   ]
  },
  {
   "cell_type": "code",
   "execution_count": 46,
   "id": "a95709dd",
   "metadata": {},
   "outputs": [],
   "source": [
    "train=train.drop(['Age'], axis=1)"
   ]
  },
  {
   "cell_type": "code",
   "execution_count": 47,
   "id": "8ac247a7",
   "metadata": {},
   "outputs": [
    {
     "data": {
      "text/html": [
       "<div>\n",
       "<style scoped>\n",
       "    .dataframe tbody tr th:only-of-type {\n",
       "        vertical-align: middle;\n",
       "    }\n",
       "\n",
       "    .dataframe tbody tr th {\n",
       "        vertical-align: top;\n",
       "    }\n",
       "\n",
       "    .dataframe thead th {\n",
       "        text-align: right;\n",
       "    }\n",
       "</style>\n",
       "<table border=\"1\" class=\"dataframe\">\n",
       "  <thead>\n",
       "    <tr style=\"text-align: right;\">\n",
       "      <th></th>\n",
       "      <th>Gender</th>\n",
       "      <th>Driving_License</th>\n",
       "      <th>Region_Code</th>\n",
       "      <th>Previously_Insured</th>\n",
       "      <th>Vehicle_Age</th>\n",
       "      <th>Vehicle_Damage</th>\n",
       "      <th>Annual_Premium</th>\n",
       "      <th>Policy_Sales_Channel</th>\n",
       "      <th>Vintage</th>\n",
       "      <th>Response</th>\n",
       "      <th>age_group</th>\n",
       "    </tr>\n",
       "  </thead>\n",
       "  <tbody>\n",
       "    <tr>\n",
       "      <th>235350</th>\n",
       "      <td>1</td>\n",
       "      <td>1</td>\n",
       "      <td>33.0</td>\n",
       "      <td>1</td>\n",
       "      <td>1</td>\n",
       "      <td>0</td>\n",
       "      <td>28068.0</td>\n",
       "      <td>152.0</td>\n",
       "      <td>226</td>\n",
       "      <td>0</td>\n",
       "      <td>1</td>\n",
       "    </tr>\n",
       "    <tr>\n",
       "      <th>321484</th>\n",
       "      <td>1</td>\n",
       "      <td>1</td>\n",
       "      <td>29.0</td>\n",
       "      <td>0</td>\n",
       "      <td>2</td>\n",
       "      <td>1</td>\n",
       "      <td>41179.0</td>\n",
       "      <td>124.0</td>\n",
       "      <td>285</td>\n",
       "      <td>0</td>\n",
       "      <td>2</td>\n",
       "    </tr>\n",
       "    <tr>\n",
       "      <th>52527</th>\n",
       "      <td>0</td>\n",
       "      <td>1</td>\n",
       "      <td>28.0</td>\n",
       "      <td>1</td>\n",
       "      <td>1</td>\n",
       "      <td>0</td>\n",
       "      <td>37595.0</td>\n",
       "      <td>152.0</td>\n",
       "      <td>222</td>\n",
       "      <td>0</td>\n",
       "      <td>1</td>\n",
       "    </tr>\n",
       "  </tbody>\n",
       "</table>\n",
       "</div>"
      ],
      "text/plain": [
       "        Gender  Driving_License  Region_Code  Previously_Insured Vehicle_Age  \\\n",
       "235350       1                1         33.0                   1           1   \n",
       "321484       1                1         29.0                   0           2   \n",
       "52527        0                1         28.0                   1           1   \n",
       "\n",
       "        Vehicle_Damage  Annual_Premium  Policy_Sales_Channel  Vintage  \\\n",
       "235350               0         28068.0                 152.0      226   \n",
       "321484               1         41179.0                 124.0      285   \n",
       "52527                0         37595.0                 152.0      222   \n",
       "\n",
       "        Response age_group  \n",
       "235350         0         1  \n",
       "321484         0         2  \n",
       "52527          0         1  "
      ]
     },
     "execution_count": 47,
     "metadata": {},
     "output_type": "execute_result"
    }
   ],
   "source": [
    "train.sample(3)"
   ]
  },
  {
   "cell_type": "code",
   "execution_count": 48,
   "id": "cc998f07",
   "metadata": {},
   "outputs": [],
   "source": [
    "\n",
    "train['Vehicle_Age'] = train['Vehicle_Age'].astype(str).astype(int)\n",
    "train['age_group'] = train['age_group'].astype(str).astype(int)\n"
   ]
  },
  {
   "cell_type": "markdown",
   "id": "c53ea324",
   "metadata": {},
   "source": [
    "# Machine learning model"
   ]
  },
  {
   "cell_type": "markdown",
   "id": "f4a9a7f1",
   "metadata": {},
   "source": [
    "## Choose the appropriate metric for fitting the model "
   ]
  },
  {
   "cell_type": "code",
   "execution_count": 49,
   "id": "c837c878",
   "metadata": {},
   "outputs": [
    {
     "data": {
      "text/plain": [
       "0    325379\n",
       "1     45130\n",
       "Name: Response, dtype: int64"
      ]
     },
     "execution_count": 49,
     "metadata": {},
     "output_type": "execute_result"
    }
   ],
   "source": [
    "train['Response'].value_counts()"
   ]
  },
  {
   "cell_type": "code",
   "execution_count": 50,
   "id": "ee6046d7",
   "metadata": {},
   "outputs": [
    {
     "name": "stdout",
     "output_type": "stream",
     "text": [
      "Shape of X before under sampling : (370509, 10)\n",
      "Shape of X after under sampling : (90260, 10)\n",
      "\n",
      "Balance of positive and negative classes (%):\n"
     ]
    },
    {
     "data": {
      "text/plain": [
       "0    50.0\n",
       "1    50.0\n",
       "Name: Response, dtype: float64"
      ]
     },
     "execution_count": 50,
     "metadata": {},
     "output_type": "execute_result"
    }
   ],
   "source": [
    "# import library\n",
    "from imblearn.under_sampling import RandomUnderSampler\n",
    "\n",
    "X = train.drop(['Response'],axis = 1)\n",
    "Y = train ['Response']\n",
    "rus = RandomUnderSampler(random_state=42, replacement=True)# fit predictor and target variable\n",
    "X_rus, Y_rus = rus.fit_resample(X, Y)\n",
    "\n",
    "print(f'''Shape of X before under sampling : {X.shape}\n",
    "Shape of X after under sampling : {X_rus.shape}''')\n",
    "\n",
    "print('\\nBalance of positive and negative classes (%):')\n",
    "Y_rus.value_counts(normalize=True) * 100"
   ]
  },
  {
   "cell_type": "code",
   "execution_count": 51,
   "id": "d89763bb",
   "metadata": {},
   "outputs": [
    {
     "data": {
      "text/plain": [
       "0    45130\n",
       "1    45130\n",
       "Name: Response, dtype: int64"
      ]
     },
     "execution_count": 51,
     "metadata": {},
     "output_type": "execute_result"
    }
   ],
   "source": [
    "Y_rus.value_counts()"
   ]
  },
  {
   "cell_type": "markdown",
   "id": "5a103155",
   "metadata": {},
   "source": [
    "## Random Forest "
   ]
  },
  {
   "cell_type": "code",
   "execution_count": 52,
   "id": "aa7b2b7b",
   "metadata": {},
   "outputs": [],
   "source": [
    "from sklearn.ensemble import RandomForestClassifier\n",
    "from sklearn.model_selection import train_test_split\n",
    "from sklearn.metrics import roc_auc_score,roc_curve\n",
    "from sklearn.metrics import accuracy_score, recall_score, precision_score, confusion_matrix, f1_score\n",
    "X_train, X_test, y_train, y_test = train_test_split(X_rus, Y_rus, test_size=0.25, random_state=42)\n",
    "\n",
    "model = RandomForestClassifier(random_state=42)\n",
    "model.fit(X_train, y_train)\n",
    "y_pred = model.predict(X_test)"
   ]
  },
  {
   "cell_type": "code",
   "execution_count": 53,
   "id": "9d224b8e",
   "metadata": {},
   "outputs": [
    {
     "name": "stdout",
     "output_type": "stream",
     "text": [
      "Akurasi 0.7863505428761356\n",
      "f1-score 0.7987308479104914\n",
      "Roc Score: 0.7865225739532041\n"
     ]
    }
   ],
   "source": [
    "acc_rf=accuracy_score(y_test, y_pred)\n",
    "f1_score_rf=f1_score(y_test, y_pred)\n",
    "roc_rf=roc_auc_score(y_test,y_pred)\n",
    "recall_rf=recall_score(y_test,y_pred)\n",
    "Precision_rf=precision_score(y_test,y_pred)\n",
    "\n",
    "print('Akurasi',acc_rf)\n",
    "print('f1-score', f1_score_rf)\n",
    "print(f'Roc Score: {roc_rf}')\n"
   ]
  },
  {
   "cell_type": "code",
   "execution_count": 54,
   "id": "4550a734",
   "metadata": {},
   "outputs": [
    {
     "name": "stdout",
     "output_type": "stream",
     "text": [
      "              precision    recall  f1-score   support\n",
      "\n",
      "           0       0.83      0.72      0.77     11313\n",
      "           1       0.75      0.85      0.80     11252\n",
      "\n",
      "    accuracy                           0.79     22565\n",
      "   macro avg       0.79      0.79      0.79     22565\n",
      "weighted avg       0.79      0.79      0.79     22565\n",
      "\n"
     ]
    }
   ],
   "source": [
    "# classification report\n",
    "from sklearn.metrics import classification_report\n",
    "from sklearn.metrics import roc_auc_score,roc_curve\n",
    "from sklearn.metrics import confusion_matrix,classification_report\n",
    "\n",
    "y_pred = model.predict(X_test)\n",
    "print(classification_report(y_test, y_pred))"
   ]
  },
  {
   "cell_type": "markdown",
   "id": "a8dc744a",
   "metadata": {},
   "source": [
    "## Logistic Regression"
   ]
  },
  {
   "cell_type": "code",
   "execution_count": 55,
   "id": "18c6ae05",
   "metadata": {},
   "outputs": [
    {
     "data": {
      "text/html": [
       "<style>#sk-container-id-1 {color: black;background-color: white;}#sk-container-id-1 pre{padding: 0;}#sk-container-id-1 div.sk-toggleable {background-color: white;}#sk-container-id-1 label.sk-toggleable__label {cursor: pointer;display: block;width: 100%;margin-bottom: 0;padding: 0.3em;box-sizing: border-box;text-align: center;}#sk-container-id-1 label.sk-toggleable__label-arrow:before {content: \"▸\";float: left;margin-right: 0.25em;color: #696969;}#sk-container-id-1 label.sk-toggleable__label-arrow:hover:before {color: black;}#sk-container-id-1 div.sk-estimator:hover label.sk-toggleable__label-arrow:before {color: black;}#sk-container-id-1 div.sk-toggleable__content {max-height: 0;max-width: 0;overflow: hidden;text-align: left;background-color: #f0f8ff;}#sk-container-id-1 div.sk-toggleable__content pre {margin: 0.2em;color: black;border-radius: 0.25em;background-color: #f0f8ff;}#sk-container-id-1 input.sk-toggleable__control:checked~div.sk-toggleable__content {max-height: 200px;max-width: 100%;overflow: auto;}#sk-container-id-1 input.sk-toggleable__control:checked~label.sk-toggleable__label-arrow:before {content: \"▾\";}#sk-container-id-1 div.sk-estimator input.sk-toggleable__control:checked~label.sk-toggleable__label {background-color: #d4ebff;}#sk-container-id-1 div.sk-label input.sk-toggleable__control:checked~label.sk-toggleable__label {background-color: #d4ebff;}#sk-container-id-1 input.sk-hidden--visually {border: 0;clip: rect(1px 1px 1px 1px);clip: rect(1px, 1px, 1px, 1px);height: 1px;margin: -1px;overflow: hidden;padding: 0;position: absolute;width: 1px;}#sk-container-id-1 div.sk-estimator {font-family: monospace;background-color: #f0f8ff;border: 1px dotted black;border-radius: 0.25em;box-sizing: border-box;margin-bottom: 0.5em;}#sk-container-id-1 div.sk-estimator:hover {background-color: #d4ebff;}#sk-container-id-1 div.sk-parallel-item::after {content: \"\";width: 100%;border-bottom: 1px solid gray;flex-grow: 1;}#sk-container-id-1 div.sk-label:hover label.sk-toggleable__label {background-color: #d4ebff;}#sk-container-id-1 div.sk-serial::before {content: \"\";position: absolute;border-left: 1px solid gray;box-sizing: border-box;top: 0;bottom: 0;left: 50%;z-index: 0;}#sk-container-id-1 div.sk-serial {display: flex;flex-direction: column;align-items: center;background-color: white;padding-right: 0.2em;padding-left: 0.2em;position: relative;}#sk-container-id-1 div.sk-item {position: relative;z-index: 1;}#sk-container-id-1 div.sk-parallel {display: flex;align-items: stretch;justify-content: center;background-color: white;position: relative;}#sk-container-id-1 div.sk-item::before, #sk-container-id-1 div.sk-parallel-item::before {content: \"\";position: absolute;border-left: 1px solid gray;box-sizing: border-box;top: 0;bottom: 0;left: 50%;z-index: -1;}#sk-container-id-1 div.sk-parallel-item {display: flex;flex-direction: column;z-index: 1;position: relative;background-color: white;}#sk-container-id-1 div.sk-parallel-item:first-child::after {align-self: flex-end;width: 50%;}#sk-container-id-1 div.sk-parallel-item:last-child::after {align-self: flex-start;width: 50%;}#sk-container-id-1 div.sk-parallel-item:only-child::after {width: 0;}#sk-container-id-1 div.sk-dashed-wrapped {border: 1px dashed gray;margin: 0 0.4em 0.5em 0.4em;box-sizing: border-box;padding-bottom: 0.4em;background-color: white;}#sk-container-id-1 div.sk-label label {font-family: monospace;font-weight: bold;display: inline-block;line-height: 1.2em;}#sk-container-id-1 div.sk-label-container {text-align: center;}#sk-container-id-1 div.sk-container {/* jupyter's `normalize.less` sets `[hidden] { display: none; }` but bootstrap.min.css set `[hidden] { display: none !important; }` so we also need the `!important` here to be able to override the default hidden behavior on the sphinx rendered scikit-learn.org. See: https://github.com/scikit-learn/scikit-learn/issues/21755 */display: inline-block !important;position: relative;}#sk-container-id-1 div.sk-text-repr-fallback {display: none;}</style><div id=\"sk-container-id-1\" class=\"sk-top-container\"><div class=\"sk-text-repr-fallback\"><pre>LogisticRegression(random_state=42)</pre><b>In a Jupyter environment, please rerun this cell to show the HTML representation or trust the notebook. <br />On GitHub, the HTML representation is unable to render, please try loading this page with nbviewer.org.</b></div><div class=\"sk-container\" hidden><div class=\"sk-item\"><div class=\"sk-estimator sk-toggleable\"><input class=\"sk-toggleable__control sk-hidden--visually\" id=\"sk-estimator-id-1\" type=\"checkbox\" checked><label for=\"sk-estimator-id-1\" class=\"sk-toggleable__label sk-toggleable__label-arrow\">LogisticRegression</label><div class=\"sk-toggleable__content\"><pre>LogisticRegression(random_state=42)</pre></div></div></div></div></div>"
      ],
      "text/plain": [
       "LogisticRegression(random_state=42)"
      ]
     },
     "execution_count": 55,
     "metadata": {},
     "output_type": "execute_result"
    }
   ],
   "source": [
    "from sklearn.linear_model import LogisticRegression\n",
    "\n",
    "logreg = LogisticRegression(random_state=42)\n",
    "logreg.fit(X_train, y_train)"
   ]
  },
  {
   "cell_type": "code",
   "execution_count": 56,
   "id": "fa209926",
   "metadata": {},
   "outputs": [
    {
     "data": {
      "text/plain": [
       "array([1, 0, 0, ..., 1, 1, 1], dtype=int64)"
      ]
     },
     "execution_count": 56,
     "metadata": {},
     "output_type": "execute_result"
    }
   ],
   "source": [
    "y_pred_reg = logreg.predict(X_test)\n",
    "y_pred_reg"
   ]
  },
  {
   "cell_type": "code",
   "execution_count": 57,
   "id": "d42f1696",
   "metadata": {},
   "outputs": [
    {
     "name": "stdout",
     "output_type": "stream",
     "text": [
      "Akurasi 0.585996011522269\n",
      "f1-score 0.5309299056035348\n",
      "Roc Score: 0.5856829396883163\n"
     ]
    }
   ],
   "source": [
    "acc_lr=accuracy_score(y_test, y_pred_reg)\n",
    "f1_score_lr=f1_score(y_test,y_pred_reg)\n",
    "roc_lr=roc_auc_score(y_test,y_pred_reg)\n",
    "recall_lr=recall_score(y_test,y_pred_reg)\n",
    "Precision_lr=precision_score(y_test,y_pred_reg)\n",
    "\n",
    "\n",
    "print('Akurasi',acc_lr)\n",
    "print('f1-score', f1_score_lr)\n",
    "print(f'Roc Score: {roc_lr}')"
   ]
  },
  {
   "cell_type": "code",
   "execution_count": 58,
   "id": "85b22936",
   "metadata": {},
   "outputs": [
    {
     "name": "stdout",
     "output_type": "stream",
     "text": [
      "              precision    recall  f1-score   support\n",
      "\n",
      "           0       0.57      0.70      0.63     11313\n",
      "           1       0.61      0.47      0.53     11252\n",
      "\n",
      "    accuracy                           0.59     22565\n",
      "   macro avg       0.59      0.59      0.58     22565\n",
      "weighted avg       0.59      0.59      0.58     22565\n",
      "\n"
     ]
    }
   ],
   "source": [
    "# classification report\n",
    "from sklearn.metrics import classification_report\n",
    "from sklearn.metrics import confusion_matrix,classification_report\n",
    "\n",
    "\n",
    "print(classification_report(y_test, y_pred_reg))"
   ]
  },
  {
   "cell_type": "markdown",
   "id": "2f0c223e",
   "metadata": {},
   "source": [
    "## Decission Tree"
   ]
  },
  {
   "cell_type": "code",
   "execution_count": 59,
   "id": "904c46f0",
   "metadata": {},
   "outputs": [
    {
     "data": {
      "text/html": [
       "<style>#sk-container-id-2 {color: black;background-color: white;}#sk-container-id-2 pre{padding: 0;}#sk-container-id-2 div.sk-toggleable {background-color: white;}#sk-container-id-2 label.sk-toggleable__label {cursor: pointer;display: block;width: 100%;margin-bottom: 0;padding: 0.3em;box-sizing: border-box;text-align: center;}#sk-container-id-2 label.sk-toggleable__label-arrow:before {content: \"▸\";float: left;margin-right: 0.25em;color: #696969;}#sk-container-id-2 label.sk-toggleable__label-arrow:hover:before {color: black;}#sk-container-id-2 div.sk-estimator:hover label.sk-toggleable__label-arrow:before {color: black;}#sk-container-id-2 div.sk-toggleable__content {max-height: 0;max-width: 0;overflow: hidden;text-align: left;background-color: #f0f8ff;}#sk-container-id-2 div.sk-toggleable__content pre {margin: 0.2em;color: black;border-radius: 0.25em;background-color: #f0f8ff;}#sk-container-id-2 input.sk-toggleable__control:checked~div.sk-toggleable__content {max-height: 200px;max-width: 100%;overflow: auto;}#sk-container-id-2 input.sk-toggleable__control:checked~label.sk-toggleable__label-arrow:before {content: \"▾\";}#sk-container-id-2 div.sk-estimator input.sk-toggleable__control:checked~label.sk-toggleable__label {background-color: #d4ebff;}#sk-container-id-2 div.sk-label input.sk-toggleable__control:checked~label.sk-toggleable__label {background-color: #d4ebff;}#sk-container-id-2 input.sk-hidden--visually {border: 0;clip: rect(1px 1px 1px 1px);clip: rect(1px, 1px, 1px, 1px);height: 1px;margin: -1px;overflow: hidden;padding: 0;position: absolute;width: 1px;}#sk-container-id-2 div.sk-estimator {font-family: monospace;background-color: #f0f8ff;border: 1px dotted black;border-radius: 0.25em;box-sizing: border-box;margin-bottom: 0.5em;}#sk-container-id-2 div.sk-estimator:hover {background-color: #d4ebff;}#sk-container-id-2 div.sk-parallel-item::after {content: \"\";width: 100%;border-bottom: 1px solid gray;flex-grow: 1;}#sk-container-id-2 div.sk-label:hover label.sk-toggleable__label {background-color: #d4ebff;}#sk-container-id-2 div.sk-serial::before {content: \"\";position: absolute;border-left: 1px solid gray;box-sizing: border-box;top: 0;bottom: 0;left: 50%;z-index: 0;}#sk-container-id-2 div.sk-serial {display: flex;flex-direction: column;align-items: center;background-color: white;padding-right: 0.2em;padding-left: 0.2em;position: relative;}#sk-container-id-2 div.sk-item {position: relative;z-index: 1;}#sk-container-id-2 div.sk-parallel {display: flex;align-items: stretch;justify-content: center;background-color: white;position: relative;}#sk-container-id-2 div.sk-item::before, #sk-container-id-2 div.sk-parallel-item::before {content: \"\";position: absolute;border-left: 1px solid gray;box-sizing: border-box;top: 0;bottom: 0;left: 50%;z-index: -1;}#sk-container-id-2 div.sk-parallel-item {display: flex;flex-direction: column;z-index: 1;position: relative;background-color: white;}#sk-container-id-2 div.sk-parallel-item:first-child::after {align-self: flex-end;width: 50%;}#sk-container-id-2 div.sk-parallel-item:last-child::after {align-self: flex-start;width: 50%;}#sk-container-id-2 div.sk-parallel-item:only-child::after {width: 0;}#sk-container-id-2 div.sk-dashed-wrapped {border: 1px dashed gray;margin: 0 0.4em 0.5em 0.4em;box-sizing: border-box;padding-bottom: 0.4em;background-color: white;}#sk-container-id-2 div.sk-label label {font-family: monospace;font-weight: bold;display: inline-block;line-height: 1.2em;}#sk-container-id-2 div.sk-label-container {text-align: center;}#sk-container-id-2 div.sk-container {/* jupyter's `normalize.less` sets `[hidden] { display: none; }` but bootstrap.min.css set `[hidden] { display: none !important; }` so we also need the `!important` here to be able to override the default hidden behavior on the sphinx rendered scikit-learn.org. See: https://github.com/scikit-learn/scikit-learn/issues/21755 */display: inline-block !important;position: relative;}#sk-container-id-2 div.sk-text-repr-fallback {display: none;}</style><div id=\"sk-container-id-2\" class=\"sk-top-container\"><div class=\"sk-text-repr-fallback\"><pre>DecisionTreeClassifier(random_state=42)</pre><b>In a Jupyter environment, please rerun this cell to show the HTML representation or trust the notebook. <br />On GitHub, the HTML representation is unable to render, please try loading this page with nbviewer.org.</b></div><div class=\"sk-container\" hidden><div class=\"sk-item\"><div class=\"sk-estimator sk-toggleable\"><input class=\"sk-toggleable__control sk-hidden--visually\" id=\"sk-estimator-id-2\" type=\"checkbox\" checked><label for=\"sk-estimator-id-2\" class=\"sk-toggleable__label sk-toggleable__label-arrow\">DecisionTreeClassifier</label><div class=\"sk-toggleable__content\"><pre>DecisionTreeClassifier(random_state=42)</pre></div></div></div></div></div>"
      ],
      "text/plain": [
       "DecisionTreeClassifier(random_state=42)"
      ]
     },
     "execution_count": 59,
     "metadata": {},
     "output_type": "execute_result"
    }
   ],
   "source": [
    "from sklearn.tree import DecisionTreeClassifier\n",
    "\n",
    "dt = DecisionTreeClassifier(random_state=42)\n",
    "dt.fit(X_train,y_train)"
   ]
  },
  {
   "cell_type": "code",
   "execution_count": 60,
   "id": "50639441",
   "metadata": {},
   "outputs": [
    {
     "data": {
      "text/plain": [
       "array([1, 1, 0, ..., 1, 1, 1], dtype=int64)"
      ]
     },
     "execution_count": 60,
     "metadata": {},
     "output_type": "execute_result"
    }
   ],
   "source": [
    "y_pred_dt = dt.predict(X_test)\n",
    "y_pred_dt"
   ]
  },
  {
   "cell_type": "code",
   "execution_count": 61,
   "id": "b3a723ec",
   "metadata": {},
   "outputs": [
    {
     "name": "stdout",
     "output_type": "stream",
     "text": [
      "Akurasi 0.7284289829381786\n",
      "f1-score 0.7228403437358661\n",
      "Roc Score: 0.7283797965268966\n"
     ]
    }
   ],
   "source": [
    "acc_dt=accuracy_score(y_test, y_pred_dt)\n",
    "f1_score_dt=f1_score(y_test,y_pred_dt)\n",
    "roc_dt=roc_auc_score(y_test,y_pred_dt)\n",
    "recall_dt=recall_score(y_test,y_pred_dt)\n",
    "Precision_dt=precision_score(y_test,y_pred_dt)\n",
    "\n",
    "print('Akurasi',acc_dt)\n",
    "print('f1-score', f1_score_dt)\n",
    "print(f'Roc Score: {roc_dt}')"
   ]
  },
  {
   "cell_type": "code",
   "execution_count": 62,
   "id": "af78969f",
   "metadata": {},
   "outputs": [
    {
     "name": "stdout",
     "output_type": "stream",
     "text": [
      "              precision    recall  f1-score   support\n",
      "\n",
      "           0       0.72      0.75      0.73     11313\n",
      "           1       0.74      0.71      0.72     11252\n",
      "\n",
      "    accuracy                           0.73     22565\n",
      "   macro avg       0.73      0.73      0.73     22565\n",
      "weighted avg       0.73      0.73      0.73     22565\n",
      "\n"
     ]
    }
   ],
   "source": [
    "# classification report\n",
    "from sklearn.metrics import classification_report\n",
    "from sklearn.metrics import roc_auc_score,roc_curve\n",
    "from sklearn.metrics import confusion_matrix,classification_report\n",
    "\n",
    "\n",
    "print(classification_report(y_test, y_pred_dt))"
   ]
  },
  {
   "cell_type": "markdown",
   "id": "ad51b494",
   "metadata": {},
   "source": [
    "## XG BOOST"
   ]
  },
  {
   "cell_type": "code",
   "execution_count": 63,
   "id": "4fc9b88e",
   "metadata": {},
   "outputs": [
    {
     "data": {
      "text/html": [
       "<style>#sk-container-id-3 {color: black;background-color: white;}#sk-container-id-3 pre{padding: 0;}#sk-container-id-3 div.sk-toggleable {background-color: white;}#sk-container-id-3 label.sk-toggleable__label {cursor: pointer;display: block;width: 100%;margin-bottom: 0;padding: 0.3em;box-sizing: border-box;text-align: center;}#sk-container-id-3 label.sk-toggleable__label-arrow:before {content: \"▸\";float: left;margin-right: 0.25em;color: #696969;}#sk-container-id-3 label.sk-toggleable__label-arrow:hover:before {color: black;}#sk-container-id-3 div.sk-estimator:hover label.sk-toggleable__label-arrow:before {color: black;}#sk-container-id-3 div.sk-toggleable__content {max-height: 0;max-width: 0;overflow: hidden;text-align: left;background-color: #f0f8ff;}#sk-container-id-3 div.sk-toggleable__content pre {margin: 0.2em;color: black;border-radius: 0.25em;background-color: #f0f8ff;}#sk-container-id-3 input.sk-toggleable__control:checked~div.sk-toggleable__content {max-height: 200px;max-width: 100%;overflow: auto;}#sk-container-id-3 input.sk-toggleable__control:checked~label.sk-toggleable__label-arrow:before {content: \"▾\";}#sk-container-id-3 div.sk-estimator input.sk-toggleable__control:checked~label.sk-toggleable__label {background-color: #d4ebff;}#sk-container-id-3 div.sk-label input.sk-toggleable__control:checked~label.sk-toggleable__label {background-color: #d4ebff;}#sk-container-id-3 input.sk-hidden--visually {border: 0;clip: rect(1px 1px 1px 1px);clip: rect(1px, 1px, 1px, 1px);height: 1px;margin: -1px;overflow: hidden;padding: 0;position: absolute;width: 1px;}#sk-container-id-3 div.sk-estimator {font-family: monospace;background-color: #f0f8ff;border: 1px dotted black;border-radius: 0.25em;box-sizing: border-box;margin-bottom: 0.5em;}#sk-container-id-3 div.sk-estimator:hover {background-color: #d4ebff;}#sk-container-id-3 div.sk-parallel-item::after {content: \"\";width: 100%;border-bottom: 1px solid gray;flex-grow: 1;}#sk-container-id-3 div.sk-label:hover label.sk-toggleable__label {background-color: #d4ebff;}#sk-container-id-3 div.sk-serial::before {content: \"\";position: absolute;border-left: 1px solid gray;box-sizing: border-box;top: 0;bottom: 0;left: 50%;z-index: 0;}#sk-container-id-3 div.sk-serial {display: flex;flex-direction: column;align-items: center;background-color: white;padding-right: 0.2em;padding-left: 0.2em;position: relative;}#sk-container-id-3 div.sk-item {position: relative;z-index: 1;}#sk-container-id-3 div.sk-parallel {display: flex;align-items: stretch;justify-content: center;background-color: white;position: relative;}#sk-container-id-3 div.sk-item::before, #sk-container-id-3 div.sk-parallel-item::before {content: \"\";position: absolute;border-left: 1px solid gray;box-sizing: border-box;top: 0;bottom: 0;left: 50%;z-index: -1;}#sk-container-id-3 div.sk-parallel-item {display: flex;flex-direction: column;z-index: 1;position: relative;background-color: white;}#sk-container-id-3 div.sk-parallel-item:first-child::after {align-self: flex-end;width: 50%;}#sk-container-id-3 div.sk-parallel-item:last-child::after {align-self: flex-start;width: 50%;}#sk-container-id-3 div.sk-parallel-item:only-child::after {width: 0;}#sk-container-id-3 div.sk-dashed-wrapped {border: 1px dashed gray;margin: 0 0.4em 0.5em 0.4em;box-sizing: border-box;padding-bottom: 0.4em;background-color: white;}#sk-container-id-3 div.sk-label label {font-family: monospace;font-weight: bold;display: inline-block;line-height: 1.2em;}#sk-container-id-3 div.sk-label-container {text-align: center;}#sk-container-id-3 div.sk-container {/* jupyter's `normalize.less` sets `[hidden] { display: none; }` but bootstrap.min.css set `[hidden] { display: none !important; }` so we also need the `!important` here to be able to override the default hidden behavior on the sphinx rendered scikit-learn.org. See: https://github.com/scikit-learn/scikit-learn/issues/21755 */display: inline-block !important;position: relative;}#sk-container-id-3 div.sk-text-repr-fallback {display: none;}</style><div id=\"sk-container-id-3\" class=\"sk-top-container\"><div class=\"sk-text-repr-fallback\"><pre>XGBClassifier(base_score=0.5, booster=&#x27;gbtree&#x27;, callbacks=None,\n",
       "              colsample_bylevel=1, colsample_bynode=1, colsample_bytree=1,\n",
       "              early_stopping_rounds=None, enable_categorical=False,\n",
       "              eval_metric=None, feature_types=None, gamma=0, gpu_id=-1,\n",
       "              grow_policy=&#x27;depthwise&#x27;, importance_type=None,\n",
       "              interaction_constraints=&#x27;&#x27;, learning_rate=0.300000012,\n",
       "              max_bin=256, max_cat_threshold=64, max_cat_to_onehot=4,\n",
       "              max_delta_step=0, max_depth=6, max_leaves=0, min_child_weight=1,\n",
       "              missing=nan, monotone_constraints=&#x27;()&#x27;, n_estimators=100,\n",
       "              n_jobs=0, num_parallel_tree=1, predictor=&#x27;auto&#x27;, random_state=0, ...)</pre><b>In a Jupyter environment, please rerun this cell to show the HTML representation or trust the notebook. <br />On GitHub, the HTML representation is unable to render, please try loading this page with nbviewer.org.</b></div><div class=\"sk-container\" hidden><div class=\"sk-item\"><div class=\"sk-estimator sk-toggleable\"><input class=\"sk-toggleable__control sk-hidden--visually\" id=\"sk-estimator-id-3\" type=\"checkbox\" checked><label for=\"sk-estimator-id-3\" class=\"sk-toggleable__label sk-toggleable__label-arrow\">XGBClassifier</label><div class=\"sk-toggleable__content\"><pre>XGBClassifier(base_score=0.5, booster=&#x27;gbtree&#x27;, callbacks=None,\n",
       "              colsample_bylevel=1, colsample_bynode=1, colsample_bytree=1,\n",
       "              early_stopping_rounds=None, enable_categorical=False,\n",
       "              eval_metric=None, feature_types=None, gamma=0, gpu_id=-1,\n",
       "              grow_policy=&#x27;depthwise&#x27;, importance_type=None,\n",
       "              interaction_constraints=&#x27;&#x27;, learning_rate=0.300000012,\n",
       "              max_bin=256, max_cat_threshold=64, max_cat_to_onehot=4,\n",
       "              max_delta_step=0, max_depth=6, max_leaves=0, min_child_weight=1,\n",
       "              missing=nan, monotone_constraints=&#x27;()&#x27;, n_estimators=100,\n",
       "              n_jobs=0, num_parallel_tree=1, predictor=&#x27;auto&#x27;, random_state=0, ...)</pre></div></div></div></div></div>"
      ],
      "text/plain": [
       "XGBClassifier(base_score=0.5, booster='gbtree', callbacks=None,\n",
       "              colsample_bylevel=1, colsample_bynode=1, colsample_bytree=1,\n",
       "              early_stopping_rounds=None, enable_categorical=False,\n",
       "              eval_metric=None, feature_types=None, gamma=0, gpu_id=-1,\n",
       "              grow_policy='depthwise', importance_type=None,\n",
       "              interaction_constraints='', learning_rate=0.300000012,\n",
       "              max_bin=256, max_cat_threshold=64, max_cat_to_onehot=4,\n",
       "              max_delta_step=0, max_depth=6, max_leaves=0, min_child_weight=1,\n",
       "              missing=nan, monotone_constraints='()', n_estimators=100,\n",
       "              n_jobs=0, num_parallel_tree=1, predictor='auto', random_state=0, ...)"
      ]
     },
     "execution_count": 63,
     "metadata": {},
     "output_type": "execute_result"
    }
   ],
   "source": [
    "from xgboost import XGBClassifier\n",
    "model=XGBClassifier()\n",
    "model.fit(X_train,y_train)"
   ]
  },
  {
   "cell_type": "code",
   "execution_count": 64,
   "id": "4f802706",
   "metadata": {},
   "outputs": [
    {
     "data": {
      "text/plain": [
       "array([1, 1, 0, ..., 1, 1, 1])"
      ]
     },
     "execution_count": 64,
     "metadata": {},
     "output_type": "execute_result"
    }
   ],
   "source": [
    "y_pred_xg = model.predict(X_test)\n",
    "y_pred_xg"
   ]
  },
  {
   "cell_type": "code",
   "execution_count": 65,
   "id": "957edbee",
   "metadata": {},
   "outputs": [
    {
     "name": "stdout",
     "output_type": "stream",
     "text": [
      "Akurasi 0.7965876357190339\n",
      "f1-score 0.8191204287515763\n",
      "Roc Score: 0.7969302191725234\n"
     ]
    }
   ],
   "source": [
    "acc_xg=accuracy_score(y_test,  y_pred_xg)\n",
    "f1_score_xg=f1_score(y_test, y_pred_xg)\n",
    "roc_xg=roc_auc_score(y_test, y_pred_xg)\n",
    "recall_xg=recall_score(y_test,y_pred_xg)\n",
    "Precision_xg=precision_score(y_test,y_pred_xg)\n",
    "\n",
    "print('Akurasi',acc_xg)\n",
    "print('f1-score', f1_score_xg)\n",
    "print(f'Roc Score: {roc_xg}')"
   ]
  },
  {
   "cell_type": "code",
   "execution_count": 66,
   "id": "5270189a",
   "metadata": {},
   "outputs": [
    {
     "name": "stdout",
     "output_type": "stream",
     "text": [
      "              precision    recall  f1-score   support\n",
      "\n",
      "           0       0.90      0.67      0.77     11313\n",
      "           1       0.74      0.92      0.82     11252\n",
      "\n",
      "    accuracy                           0.80     22565\n",
      "   macro avg       0.82      0.80      0.79     22565\n",
      "weighted avg       0.82      0.80      0.79     22565\n",
      "\n"
     ]
    }
   ],
   "source": [
    "# classification report\n",
    "from sklearn.metrics import classification_report\n",
    "from sklearn.metrics import roc_auc_score,roc_curve\n",
    "from sklearn.metrics import confusion_matrix,classification_report\n",
    "\n",
    "\n",
    "print(classification_report(y_test, y_pred_xg))"
   ]
  },
  {
   "cell_type": "code",
   "execution_count": 67,
   "id": "b6f1046b",
   "metadata": {},
   "outputs": [
    {
     "data": {
      "text/html": [
       "<div>\n",
       "<style scoped>\n",
       "    .dataframe tbody tr th:only-of-type {\n",
       "        vertical-align: middle;\n",
       "    }\n",
       "\n",
       "    .dataframe tbody tr th {\n",
       "        vertical-align: top;\n",
       "    }\n",
       "\n",
       "    .dataframe thead th {\n",
       "        text-align: right;\n",
       "    }\n",
       "</style>\n",
       "<table border=\"1\" class=\"dataframe\">\n",
       "  <thead>\n",
       "    <tr style=\"text-align: right;\">\n",
       "      <th></th>\n",
       "      <th>Desision Tree Test</th>\n",
       "      <th>Random Forest Test</th>\n",
       "      <th>Logistic Reg Test</th>\n",
       "      <th>Gradient Boosting Test</th>\n",
       "    </tr>\n",
       "  </thead>\n",
       "  <tbody>\n",
       "    <tr>\n",
       "      <th>Accuracy</th>\n",
       "      <td>0.73</td>\n",
       "      <td>0.79</td>\n",
       "      <td>0.59</td>\n",
       "      <td>0.80</td>\n",
       "    </tr>\n",
       "    <tr>\n",
       "      <th>AUC</th>\n",
       "      <td>0.73</td>\n",
       "      <td>0.79</td>\n",
       "      <td>0.59</td>\n",
       "      <td>0.80</td>\n",
       "    </tr>\n",
       "    <tr>\n",
       "      <th>Recall</th>\n",
       "      <td>0.71</td>\n",
       "      <td>0.85</td>\n",
       "      <td>0.47</td>\n",
       "      <td>0.92</td>\n",
       "    </tr>\n",
       "    <tr>\n",
       "      <th>Precision</th>\n",
       "      <td>0.74</td>\n",
       "      <td>0.75</td>\n",
       "      <td>0.61</td>\n",
       "      <td>0.74</td>\n",
       "    </tr>\n",
       "    <tr>\n",
       "      <th>F1 Score</th>\n",
       "      <td>0.72</td>\n",
       "      <td>0.80</td>\n",
       "      <td>0.53</td>\n",
       "      <td>0.82</td>\n",
       "    </tr>\n",
       "  </tbody>\n",
       "</table>\n",
       "</div>"
      ],
      "text/plain": [
       "           Desision Tree Test  Random Forest Test  Logistic Reg Test  \\\n",
       "Accuracy                 0.73                0.79               0.59   \n",
       "AUC                      0.73                0.79               0.59   \n",
       "Recall                   0.71                0.85               0.47   \n",
       "Precision                0.74                0.75               0.61   \n",
       "F1 Score                 0.72                0.80               0.53   \n",
       "\n",
       "           Gradient Boosting Test  \n",
       "Accuracy                     0.80  \n",
       "AUC                          0.80  \n",
       "Recall                       0.92  \n",
       "Precision                    0.74  \n",
       "F1 Score                     0.82  "
      ]
     },
     "execution_count": 67,
     "metadata": {},
     "output_type": "execute_result"
    }
   ],
   "source": [
    "index=['Accuracy', 'AUC', 'Recall','Precision','F1 Score']\n",
    "data = pd.DataFrame({ 'Desision Tree Test':[acc_dt,roc_dt,recall_dt,Precision_dt,f1_score_dt],\n",
    "        \n",
    "        'Random Forest Test':[acc_rf,roc_rf,recall_rf,Precision_rf,f1_score_rf],\n",
    "        \n",
    "        'Logistic Reg Test':[acc_lr,roc_lr,recall_lr,Precision_lr,f1_score_lr],\n",
    "        'Gradient Boosting Test':[acc_xg,roc_xg,recall_xg,Precision_xg,f1_score_xg ] },index=index )\n",
    "round(data,2)\n",
    "#dfi.export(a,'final.jpeg',max_rows=-1,max_cols=-1)\n"
   ]
  },
  {
   "cell_type": "markdown",
   "id": "3e3cf24d",
   "metadata": {},
   "source": [
    "## Hyperparameter tuning xgboost"
   ]
  },
  {
   "cell_type": "code",
   "execution_count": 68,
   "id": "c3d82d1e",
   "metadata": {},
   "outputs": [
    {
     "name": "stdout",
     "output_type": "stream",
     "text": [
      "Fitting 5 folds for each of 5 candidates, totalling 25 fits\n"
     ]
    },
    {
     "data": {
      "text/html": [
       "<style>#sk-container-id-4 {color: black;background-color: white;}#sk-container-id-4 pre{padding: 0;}#sk-container-id-4 div.sk-toggleable {background-color: white;}#sk-container-id-4 label.sk-toggleable__label {cursor: pointer;display: block;width: 100%;margin-bottom: 0;padding: 0.3em;box-sizing: border-box;text-align: center;}#sk-container-id-4 label.sk-toggleable__label-arrow:before {content: \"▸\";float: left;margin-right: 0.25em;color: #696969;}#sk-container-id-4 label.sk-toggleable__label-arrow:hover:before {color: black;}#sk-container-id-4 div.sk-estimator:hover label.sk-toggleable__label-arrow:before {color: black;}#sk-container-id-4 div.sk-toggleable__content {max-height: 0;max-width: 0;overflow: hidden;text-align: left;background-color: #f0f8ff;}#sk-container-id-4 div.sk-toggleable__content pre {margin: 0.2em;color: black;border-radius: 0.25em;background-color: #f0f8ff;}#sk-container-id-4 input.sk-toggleable__control:checked~div.sk-toggleable__content {max-height: 200px;max-width: 100%;overflow: auto;}#sk-container-id-4 input.sk-toggleable__control:checked~label.sk-toggleable__label-arrow:before {content: \"▾\";}#sk-container-id-4 div.sk-estimator input.sk-toggleable__control:checked~label.sk-toggleable__label {background-color: #d4ebff;}#sk-container-id-4 div.sk-label input.sk-toggleable__control:checked~label.sk-toggleable__label {background-color: #d4ebff;}#sk-container-id-4 input.sk-hidden--visually {border: 0;clip: rect(1px 1px 1px 1px);clip: rect(1px, 1px, 1px, 1px);height: 1px;margin: -1px;overflow: hidden;padding: 0;position: absolute;width: 1px;}#sk-container-id-4 div.sk-estimator {font-family: monospace;background-color: #f0f8ff;border: 1px dotted black;border-radius: 0.25em;box-sizing: border-box;margin-bottom: 0.5em;}#sk-container-id-4 div.sk-estimator:hover {background-color: #d4ebff;}#sk-container-id-4 div.sk-parallel-item::after {content: \"\";width: 100%;border-bottom: 1px solid gray;flex-grow: 1;}#sk-container-id-4 div.sk-label:hover label.sk-toggleable__label {background-color: #d4ebff;}#sk-container-id-4 div.sk-serial::before {content: \"\";position: absolute;border-left: 1px solid gray;box-sizing: border-box;top: 0;bottom: 0;left: 50%;z-index: 0;}#sk-container-id-4 div.sk-serial {display: flex;flex-direction: column;align-items: center;background-color: white;padding-right: 0.2em;padding-left: 0.2em;position: relative;}#sk-container-id-4 div.sk-item {position: relative;z-index: 1;}#sk-container-id-4 div.sk-parallel {display: flex;align-items: stretch;justify-content: center;background-color: white;position: relative;}#sk-container-id-4 div.sk-item::before, #sk-container-id-4 div.sk-parallel-item::before {content: \"\";position: absolute;border-left: 1px solid gray;box-sizing: border-box;top: 0;bottom: 0;left: 50%;z-index: -1;}#sk-container-id-4 div.sk-parallel-item {display: flex;flex-direction: column;z-index: 1;position: relative;background-color: white;}#sk-container-id-4 div.sk-parallel-item:first-child::after {align-self: flex-end;width: 50%;}#sk-container-id-4 div.sk-parallel-item:last-child::after {align-self: flex-start;width: 50%;}#sk-container-id-4 div.sk-parallel-item:only-child::after {width: 0;}#sk-container-id-4 div.sk-dashed-wrapped {border: 1px dashed gray;margin: 0 0.4em 0.5em 0.4em;box-sizing: border-box;padding-bottom: 0.4em;background-color: white;}#sk-container-id-4 div.sk-label label {font-family: monospace;font-weight: bold;display: inline-block;line-height: 1.2em;}#sk-container-id-4 div.sk-label-container {text-align: center;}#sk-container-id-4 div.sk-container {/* jupyter's `normalize.less` sets `[hidden] { display: none; }` but bootstrap.min.css set `[hidden] { display: none !important; }` so we also need the `!important` here to be able to override the default hidden behavior on the sphinx rendered scikit-learn.org. See: https://github.com/scikit-learn/scikit-learn/issues/21755 */display: inline-block !important;position: relative;}#sk-container-id-4 div.sk-text-repr-fallback {display: none;}</style><div id=\"sk-container-id-4\" class=\"sk-top-container\"><div class=\"sk-text-repr-fallback\"><pre>XGBClassifier(base_score=0.5, booster=&#x27;gbtree&#x27;, callbacks=None,\n",
       "              colsample_bylevel=1, colsample_bynode=1, colsample_bytree=0.4,\n",
       "              early_stopping_rounds=None, enable_categorical=False,\n",
       "              eval_metric=None, feature_types=None, gamma=0.3, gpu_id=-1,\n",
       "              grow_policy=&#x27;depthwise&#x27;, importance_type=None,\n",
       "              interaction_constraints=&#x27;&#x27;, learning_rate=0.15, max_bin=256,\n",
       "              max_cat_threshold=64, max_cat_to_onehot=4, max_delta_step=0,\n",
       "              max_depth=12, max_leaves=0, min_child_weight=1, missing=nan,\n",
       "              monotone_constraints=&#x27;()&#x27;, n_estimators=100, n_jobs=0,\n",
       "              num_parallel_tree=1, predictor=&#x27;auto&#x27;, random_state=0, ...)</pre><b>In a Jupyter environment, please rerun this cell to show the HTML representation or trust the notebook. <br />On GitHub, the HTML representation is unable to render, please try loading this page with nbviewer.org.</b></div><div class=\"sk-container\" hidden><div class=\"sk-item\"><div class=\"sk-estimator sk-toggleable\"><input class=\"sk-toggleable__control sk-hidden--visually\" id=\"sk-estimator-id-4\" type=\"checkbox\" checked><label for=\"sk-estimator-id-4\" class=\"sk-toggleable__label sk-toggleable__label-arrow\">XGBClassifier</label><div class=\"sk-toggleable__content\"><pre>XGBClassifier(base_score=0.5, booster=&#x27;gbtree&#x27;, callbacks=None,\n",
       "              colsample_bylevel=1, colsample_bynode=1, colsample_bytree=0.4,\n",
       "              early_stopping_rounds=None, enable_categorical=False,\n",
       "              eval_metric=None, feature_types=None, gamma=0.3, gpu_id=-1,\n",
       "              grow_policy=&#x27;depthwise&#x27;, importance_type=None,\n",
       "              interaction_constraints=&#x27;&#x27;, learning_rate=0.15, max_bin=256,\n",
       "              max_cat_threshold=64, max_cat_to_onehot=4, max_delta_step=0,\n",
       "              max_depth=12, max_leaves=0, min_child_weight=1, missing=nan,\n",
       "              monotone_constraints=&#x27;()&#x27;, n_estimators=100, n_jobs=0,\n",
       "              num_parallel_tree=1, predictor=&#x27;auto&#x27;, random_state=0, ...)</pre></div></div></div></div></div>"
      ],
      "text/plain": [
       "XGBClassifier(base_score=0.5, booster='gbtree', callbacks=None,\n",
       "              colsample_bylevel=1, colsample_bynode=1, colsample_bytree=0.4,\n",
       "              early_stopping_rounds=None, enable_categorical=False,\n",
       "              eval_metric=None, feature_types=None, gamma=0.3, gpu_id=-1,\n",
       "              grow_policy='depthwise', importance_type=None,\n",
       "              interaction_constraints='', learning_rate=0.15, max_bin=256,\n",
       "              max_cat_threshold=64, max_cat_to_onehot=4, max_delta_step=0,\n",
       "              max_depth=12, max_leaves=0, min_child_weight=1, missing=nan,\n",
       "              monotone_constraints='()', n_estimators=100, n_jobs=0,\n",
       "              num_parallel_tree=1, predictor='auto', random_state=0, ...)"
      ]
     },
     "execution_count": 68,
     "metadata": {},
     "output_type": "execute_result"
    }
   ],
   "source": [
    "#Hyperparameter optimization using RandomizedSearchCV\n",
    "from sklearn.model_selection import RandomizedSearchCV\n",
    "import xgboost\n",
    "classifier = xgboost.XGBClassifier()\n",
    "\n",
    "params = {\n",
    " 'learning_rate' : [0.05,0.10,0.15,0.20,0.25,0.30],\n",
    " 'max_depth' : [ 3, 4, 5, 6, 8, 10, 12, 15],\n",
    " 'gamma': [ 0.0, 0.1, 0.2 , 0.3, 0.4 ],\n",
    " 'colsample_bytree' : [ 0.3, 0.4, 0.5 , 0.7 ]\n",
    "}\n",
    "\n",
    "rs_model=RandomizedSearchCV(classifier,param_distributions=params,n_iter=5,scoring='roc_auc',n_jobs=-1,cv=5,verbose=3)\n",
    "\n",
    "#model fitting\n",
    "rs_model.fit(X_train,y_train)\n",
    "\n",
    "#parameters selected\n",
    "rs_model.best_estimator_"
   ]
  },
  {
   "cell_type": "code",
   "execution_count": 69,
   "id": "99e47585",
   "metadata": {},
   "outputs": [
    {
     "data": {
      "image/png": "[encoded data removed]",
      "text/plain": [
       "<Figure size 720x504 with 2 Axes>"
      ]
     },
     "metadata": {
      "needs_background": "light"
     },
     "output_type": "display_data"
    }
   ],
   "source": [
    "# the confusion matrix\n",
    "import matplotlib.pyplot as plt\n",
    "from sklearn.metrics import confusion_matrix, ConfusionMatrixDisplay\n",
    "\n",
    "fig, ax = plt.subplots(figsize=(10,7))\n",
    "y_pred = rs_model.best_estimator_.predict(X_test)\n",
    "\n",
    "cm = confusion_matrix(y_test, y_pred, labels=rs_model.best_estimator_.classes_)\n",
    "disp = ConfusionMatrixDisplay(confusion_matrix=cm,\n",
    "                             display_labels=rs_model.best_estimator_.classes_)\n",
    "disp.plot(ax=ax)\n",
    "plt.show()"
   ]
  },
  {
   "cell_type": "code",
   "execution_count": 70,
   "id": "4499dc6d",
   "metadata": {},
   "outputs": [
    {
     "name": "stdout",
     "output_type": "stream",
     "text": [
      "              precision    recall  f1-score   support\n",
      "\n",
      "           0       0.89      0.67      0.77     11313\n",
      "           1       0.74      0.92      0.82     11252\n",
      "\n",
      "    accuracy                           0.80     22565\n",
      "   macro avg       0.82      0.80      0.79     22565\n",
      "weighted avg       0.82      0.80      0.79     22565\n",
      "\n"
     ]
    }
   ],
   "source": [
    "# classification report\n",
    "from sklearn.metrics import classification_report\n",
    "y_pred = rs_model.best_estimator_.predict(X_test)\n",
    "print(classification_report(y_test, y_pred))"
   ]
  },
  {
   "cell_type": "code",
   "execution_count": 71,
   "id": "0b3b9709",
   "metadata": {},
   "outputs": [],
   "source": [
    "# no skill\n",
    "ns_probs = [0 for _ in range(len(y_test))]\n",
    "ns_fpr, ns_tpr, _ = roc_curve(y_test, ns_probs)\n",
    "\n",
    "#Xgboost\n",
    "y_probs= rs_model.best_estimator_.predict_proba(X_test)\n",
    "fpr,tpr,thresholds=roc_curve(y_test,y_probs[:,1])"
   ]
  },
  {
   "cell_type": "code",
   "execution_count": 72,
   "id": "517bfe8c",
   "metadata": {},
   "outputs": [
    {
     "data": {
      "text/plain": [
       "<matplotlib.legend.Legend at 0x21e1e4d9f40>"
      ]
     },
     "execution_count": 72,
     "metadata": {},
     "output_type": "execute_result"
    },
    {
     "data": {
      "image/png": "[encoded data removed]",
      "text/plain": [
       "<Figure size 432x288 with 1 Axes>"
      ]
     },
     "metadata": {
      "needs_background": "light"
     },
     "output_type": "display_data"
    }
   ],
   "source": [
    "plt.plot(ns_fpr, ns_tpr, linestyle='--', label='No Skill')\n",
    "plt.plot(fpr, tpr, marker='.', label='Xgboost')\n",
    "\n",
    "plt.xlabel('False Positive Rate')\n",
    "plt.ylabel('True Positive Rate')\n",
    "\n",
    "plt.legend()"
   ]
  },
  {
   "cell_type": "code",
   "execution_count": 73,
   "id": "0567c64b",
   "metadata": {},
   "outputs": [
    {
     "name": "stdout",
     "output_type": "stream",
     "text": [
      "               Variable  Importance\n",
      "3    Previously_Insured   53.458530\n",
      "5        Vehicle_Damage   44.082596\n",
      "9             age_group    0.833012\n",
      "4           Vehicle_Age    0.705846\n",
      "7  Policy_Sales_Channel    0.290488\n",
      "1       Driving_License    0.250383\n",
      "6        Annual_Premium    0.111789\n",
      "8               Vintage    0.093607\n",
      "2           Region_Code    0.091734\n",
      "0                Gender    0.082007\n"
     ]
    },
    {
     "data": {
      "image/png": "[encoded data removed]",
      "text/plain": [
       "<Figure size 1296x504 with 1 Axes>"
      ]
     },
     "metadata": {
      "needs_background": "light"
     },
     "output_type": "display_data"
    }
   ],
   "source": [
    "feature_importance = pd.DataFrame({'Variable':X_train.columns,\n",
    "                      'Importance': rs_model.best_estimator_.feature_importances_*100}).sort_values('Importance', ascending=False)\n",
    "fig, ax = plt.subplots(figsize=(18,7))\n",
    "ax.bar(feature_importance['Variable'], feature_importance['Importance'])\n",
    "plt.xticks(rotation=45, ha='right')\n",
    "ax.set_title('Feature Importance of Credit Default Prediction', fontsize=15, fontweight='bold')\n",
    "plt.show\n",
    "print(feature_importance)"
   ]
  },
  {
   "cell_type": "markdown",
   "id": "a4efacf3",
   "metadata": {},
   "source": [
    "from treeinterpreter import treeinterpreter as ti\n",
    "import waterfall_chart\n",
    "\n",
    "def create_contrbutions_df(row):\n",
    "    row_value = X_test.values[[row]]\n",
    "    prediction, bias, contributions = ti.predict( rs_model.best_estimator_, row_value)\n",
    "    idxs = np.argsort(contributions[0][:][:,1])\n",
    "    contrib_df = pd.DataFrame([o for o in zip(X_test.columns[idxs], X_test.iloc[row][idxs], contributions[0][:][idxs,1])])\n",
    "    pred = contrib_df[2].sum()+bias[0][0]\n",
    "    print (contrib_df)\n",
    "    print (\"bias :\", bias[0][0])\n",
    "    print (\"contributions :\", contrib_df[2].sum())\n",
    "    print (\"calculated prediction :\", pred)\n",
    "    print(\"final model prediction :\", rs_model.best_estimator_.predict(X_test.values[[row]])[0])\n",
    "    plt.rcParams.update({'figure.figsize':(7.5,5), 'figure.dpi':100})\n",
    "    my_plot=waterfall_chart.plot(contrib_df[0],contrib_df[2],sorted_value= True, rotation_value=90, threshold=0.1,formatting='{:,.3f}')\n",
    "    "
   ]
  },
  {
   "cell_type": "markdown",
   "id": "f8688a65",
   "metadata": {},
   "source": [
    "from pdpbox import pdp\n",
    "from plotnine import *\n",
    "from plotnine.data import mpg\n",
    "\n",
    "# Work on a sample of the data for our visualizations\n",
    "rand_sample = np.random.permutation(len(X_test))[:500]\n",
    "df_sample = X_test.iloc[rand_sample]\n",
    "features = X_test.columns\n",
    "\n",
    "\n",
    "\n",
    "# Use the pdp library and define a plot_pdp function for our PDP visualization\n",
    "def plot_pdp(feat):\n",
    "    feat_name = feat\n",
    "    p = pdp.pdp_isolate(model =  rs_model.best_estimator_, dataset=X_test.iloc[rand_sample], feature = feat, model_features = features)\n",
    "    return pdp.pdp_plot(p, feat_name, plot_lines=True)\n",
    "\n",
    "plot_pdp('Vehicle_Damage')\n",
    "plt.show()"
   ]
  },
  {
   "cell_type": "markdown",
   "id": "9d27401f",
   "metadata": {},
   "source": [
    "plot_pdp('Previously_Insured')\n",
    "plt.show()"
   ]
  },
  {
   "cell_type": "markdown",
   "id": "7a578031",
   "metadata": {},
   "source": [
    "plot_pdp('age_group')\n",
    "plt.show()\n"
   ]
  },
  {
   "cell_type": "code",
   "execution_count": null,
   "id": "6c843f60",
   "metadata": {},
   "outputs": [],
   "source": []
  }
 ],
 "metadata": {
  "kernelspec": {
   "display_name": "Python 3 (ipykernel)",
   "language": "python",
   "name": "python3"
  },
  "language_info": {
   "codemirror_mode": {
    "name": "ipython",
    "version": 3
   },
   "file_extension": ".py",
   "mimetype": "text/x-python",
   "name": "python",
   "nbconvert_exporter": "python",
   "pygments_lexer": "ipython3",
   "version": "3.9.12"
  }
 },
 "nbformat": 4,
 "nbformat_minor": 5
}
